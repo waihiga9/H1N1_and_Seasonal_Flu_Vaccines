{
 "cells": [
  {
   "attachments": {},
   "cell_type": "markdown",
   "metadata": {},
   "source": [
    "# Seasonal Flu Vaccine Prediction"
   ]
  },
  {
   "attachments": {},
   "cell_type": "markdown",
   "metadata": {},
   "source": [
    "## Introduction"
   ]
  },
  {
   "attachments": {},
   "cell_type": "markdown",
   "metadata": {},
   "source": [
    "In recent decades, the prevention and control of infectious diseases have become paramount concerns in the field of public health. Vaccination has emerged as one of the most effective strategies to protect individuals and communities from the threat of highly contagious diseases. In this project, we delve into the realm of predicting the uptake of seasonal flu vaccines among individuals based on various factors and demographics.\n",
    "\n",
    "The H1N1 influenza virus, also known as swine flu, gained global attention in 2009 when it caused a widespread pandemic. This particular strain of the influenza virus led to a significant number of infections and severe illnesses worldwide. In response to this public health crisis, intensive efforts were made to develop effective vaccines specifically targeting the H1N1 strain and promote immunization campaigns to mitigate its impact.\n",
    "In addition to the H1N1 virus, seasonal influenza poses a recurring threat each year. Different strains of the flu virus circulate annually, causing substantial illness and hospitalizations. Seasonal flu vaccines are designed to target these prevalent strains and provide protection against infection. However, the effectiveness of these vaccines can vary from season to season due to the continuous evolution of the influenza virus."
   ]
  },
  {
   "attachments": {},
   "cell_type": "markdown",
   "metadata": {},
   "source": [
    "![image](Images/vaccine_sample.jpg)\n",
    "\n"
   ]
  },
  {
   "attachments": {},
   "cell_type": "markdown",
   "metadata": {},
   "source": [
    "## Business Understanding"
   ]
  },
  {
   "attachments": {},
   "cell_type": "markdown",
   "metadata": {},
   "source": [
    "### Overview"
   ]
  },
  {
   "attachments": {},
   "cell_type": "markdown",
   "metadata": {},
   "source": [
    "In the dynamic landscape of healthcare, accurate prediction of individuals' decisions regarding the seasonal flu vaccine is of paramount importance for insurance providers like Apex Health Insurance - the stakeholders. By understanding the factors that influence vaccination behavior, Apex Health Insurance can effectively assess and manage risks, optimize resource allocation, and develop targeted strategies to improve overall vaccination rates among their policyholders.\n",
    "\n",
    "This project explores the factors influencing individuals' decisions to get the flu shot during the flu season. By analyzing demographics and opinions, we aim to understand their statistical implications and identify target populations for tailored interventions. The objective is to build a predictive model that accurately predicts seasonal vaccine uptake based on specific features or conditions.\n",
    "\n",
    "By answering key questions such as the impact of age, gender, and household composition on vaccination decisions, this project will provide Apex Health Insurance with valuable insights to enhance their understanding of their policyholders' behaviors. Ultimately, achieving an accuracy target of 80% will enable Apex Health Insurance to make informed decisions, optimize resource allocation, and improve overall healthcare outcomes for their policyholders."
   ]
  },
  {
   "attachments": {},
   "cell_type": "markdown",
   "metadata": {},
   "source": [
    "### Business Problem"
   ]
  },
  {
   "attachments": {},
   "cell_type": "markdown",
   "metadata": {},
   "source": [
    "The business problem at hand revolves around empowering ApexHealth Insurance providers to make informed decisions during the flu season. Additionally, the model aims to classify individuals based on their risk of contracting the flu, considering factors such as age, gender, and household composition. This classification will enable ApexHealth Insurance to identify high-risk individuals and offer them personalized measures and preventive strategies to minimize the chances of flu contraction. By providing tailored recommendations, such as reminders for flu shots, hygiene practices, or access to additional preventive resources, ApexHealth Insurance can actively contribute to reducing the occurrence of flu cases among their policyholders and consequently minimize healthcare costs.\n",
    "\n",
    "Furthermore, the predictive model will allow ApexHealth Insurance to identify individuals who are likely to come into contact with flu-infected individuals. By notifying these individuals proactively, ApexHealth Insurance can support early intervention measures, such as seeking medical advice, taking antiviral medications, or implementing isolation protocols. This proactive approach helps prevent severe flu scenarios, reduce hospital admissions, and ultimately minimize healthcare expenses for both policyholders and ApexHealth Insurance."
   ]
  },
  {
   "attachments": {},
   "cell_type": "markdown",
   "metadata": {},
   "source": [
    "**Problem Statements**\n",
    "- Can the model accurately predict the likelihood of individuals receiving the seasonal flu vaccine based based on a person's background and behavioral patterns.?\n",
    "- What are the key factors influencing individuals' decision to receive the seasonal flu vaccine during the flu season?\n",
    "- How does age group impact the likelihood of individuals getting vaccinated against the flu?\n",
    "- Does gender play a role in vaccine acceptance rates for the seasonal flu?\n",
    "- How can the insurance provider, ApexHealth Insurance, adjust their rates during the flu season based on the predicted vaccine acceptance rates?\n",
    "- How can the model classify individuals into different risk categories regarding flu contraction to offer personalized preventive measures?"
   ]
  },
  {
   "attachments": {},
   "cell_type": "markdown",
   "metadata": {},
   "source": [
    "## Data Understanding"
   ]
  },
  {
   "attachments": {},
   "cell_type": "markdown",
   "metadata": {},
   "source": [
    "The datasets used in this project were obtained from Driven Data and originate from the National 2009 H1N1 Flu Survey (NHFS). These datasets provide comprehensive information on the social, economic, and demographic backgrounds of the survey respondents, along with their opinions on the H1N1 and seasonal flu vaccines. The data has been split into two parts: the training set features and the training set labels.\n",
    "\n",
    "The training data consists of 26,707 rows and 36 columns. Each column contains specific information that is described in the accompanying data dictionary as shown below. The columns cover a wide range of variables related to the respondents' characteristics, such as age, gender, education level, household composition, and opinions about flu vaccines."
   ]
  },
  {
   "cell_type": "markdown",
   "metadata": {},
   "source": [
    "|No.| Column    | Description|\n",
    "|---| ---       | ---         |\n",
    "|1| `respondent_id` | Unique and random identifier for the respondents|\n",
    "|2|`h1n1_concern`| Level of concern about H1N1 flu with 0 being not concerned at all and 3 being very concerned|\n",
    "|3|`h1n1_knowledge`| Level of knowledge about H1N1 with 0 being no knowledge and 2 being a lot of knowledge|\n",
    "|4|`behavioral_antiviral_meds`| Has taken any antiviral medication (0-no,1-yes)|\n",
    "|5|`behavioral_avoidance`| Has avoided close contact with anyone with flu-like symptoms (0-no,1-yes)|\n",
    "|6|`behavioral_face_mask`| Has bought a face mask (0-no,1-yes)|\n",
    "|7|`behavioral_wash_hands`| Has frequently washed hands or used hand sanitizer (0-no,1-yes)|\n",
    "|8|`behavioral_large_gatherings`| Has reduced time at large gatherings (0-no,1-yes)|\n",
    "|9|`behavioral_outside_home`| Has reduced contact with people outside of own household (0-no,1-yes)|\n",
    "|10|`behavioral_touch_face`| Has avoided touching eyes, nose or mouth (0-no,1-yes)|\n",
    "|11|`doctor_recc_h1n1`| H1N1 flu vaccine was recommended by doctor (0-no,1-yes)|\n",
    "|12|`doctor_recc_seasonal`| H1N1 flu vaccine was recommended by doctor (0-no,1-yes)|\n",
    "|13|`chronic_med_condition`| Has any of the following chronic conditions: asthma or any lung condition, a heart condition, a kidney condition, sickle cell anaemia or any other anaemia, a neurological or neouromuscular condition, a liver condition, or a weakened immune system as a result of a chronic illness or medicines taken for a chronic illness (0-no,1-yes)|\n",
    "|14|`child_under_6_months`| Has regular close contact with a child under the age of six months (0-no,1-yes)|\n",
    "|15|`health_worker`| Is a healthcare worker (0-no,1-yes)|\n",
    "|16|`health_insurance`| Has health insurance (0-no,1-yes)|\n",
    "|17|`opinion_h1n1_vacc_effective`| Respondent's opinion on the efficacy of the vaccine with 1 being not at all effective and 5 being very effective|\n",
    "|18|`opinion_h1n1_risk`| Respondent's opinion about risk of getting sick with H1N1 flu without vaccine with 1 being very low and 5 being very high|\n",
    "|19|`opinion_h1n1_sick_from_vacc`| Respondent's worry of getting sick from H1N1 vaccine with 1 being not worried at all and 5 being very worried|\n",
    "|20|`opinion_seas_vacc_effective`| Respondent's opinion about seasonal flu vaccine effectiveness with 1 being not effective at all and 5 being very effective|\n",
    "|21|`opinion_seas_risk`| Respondent's opinion about risk of getting sick with seasonal flu without vaccine with 1 being very low and 5 being very high|\n",
    "|22|`opinion_seas_vacc_effective`| Respondent's worry of getting sick from taking seasonal flu vaccine with 1 being not worried at all and 5 being very worried|\n",
    "|23|`age_group`| Age group of respondents|\n",
    "|24|`education`| Self-reported educational level|\n",
    "|25|`race`| Race of respondent|\n",
    "|26|`sex`| Sex of respondent|\n",
    "|27|`income_poverty`| Household annual income of respondent with respect to 2008 Census poverty thresholds|\n",
    "|28|`marital status`| Marital status of respondent|\n",
    "|29|`rent_or_own`| Housing situation of respondent|\n",
    "|30|`employment_status`| Employment status of respondent|\n",
    "|31|`hhs_geo_region`| Respondent's residence using a 10-region geographic classification defined by the U.S. Dept. of Health and Human Services. Values are represented as short random character strings|\n",
    "|32|`census_msa`| Respondent's residence within metropolitan statistical areas (MSA) as defined by the U.S. Census|\n",
    "|33|`household_adults`| Number of *other* adults in the household, top-coded to 3|\n",
    "|34|`household_children`| Number of children in the household, top-coded to 3|\n",
    "|35|`employment_industry`| Type of industry respondent is employed in. Values are represented as short random character strings|\n",
    "|36|`employment_occupation`| Type of occupation of respondent.Values are represented as short random character strings| "
   ]
  },
  {
   "cell_type": "code",
   "execution_count": 1,
   "metadata": {},
   "outputs": [],
   "source": [
    "# importing relevant libraries\n",
    "import pandas as pd\n",
    "import numpy as np\n",
    "import matplotlib.pyplot as plt\n",
    "import seaborn as sns\n",
    "%matplotlib inline\n",
    "import warnings\n",
    "warnings.filterwarnings('ignore')\n",
    "\n",
    "from sklearn.model_selection import train_test_split,cross_val_score,GridSearchCV\n",
    "from sklearn.impute import SimpleImputer\n",
    "from sklearn.preprocessing import OrdinalEncoder, StandardScaler\n",
    "from sklearn.feature_selection import SelectKBest, chi2\n",
    "from sklearn.linear_model import LogisticRegression\n",
    "from sklearn.metrics import accuracy_score, roc_curve,roc_auc_score,confusion_matrix,classification_report\n",
    "from sklearn.ensemble import RandomForestClassifier, ExtraTreesClassifier, GradientBoostingClassifier\n",
    "from sklearn.tree import DecisionTreeClassifier\n",
    "from xgboost import XGBClassifier\n",
    "from sklearn.ensemble import GradientBoostingClassifier\n",
    "from sklearn.pipeline import Pipeline"
   ]
  },
  {
   "cell_type": "code",
   "execution_count": 2,
   "metadata": {},
   "outputs": [],
   "source": [
    "def load_data(filepath):\n",
    "    \"\"\"Loads the dataset from the specified file \n",
    "    path and returns a pandas DataFrame.\"\"\"\n",
    "    return pd.read_csv(filepath, index_col=[0])"
   ]
  },
  {
   "cell_type": "code",
   "execution_count": 3,
   "metadata": {},
   "outputs": [],
   "source": [
    "features_raw = load_data(\"Data/training_set_features.csv\")\n",
    "labels_raw = load_data(\"Data/training_set_labels.csv\")"
   ]
  },
  {
   "attachments": {},
   "cell_type": "markdown",
   "metadata": {},
   "source": [
    "- Features Dataset"
   ]
  },
  {
   "cell_type": "code",
   "execution_count": 4,
   "metadata": {},
   "outputs": [],
   "source": [
    "def explore(data_frame):\n",
    "    \"\"\"\n",
    "    Prints the Shape, Summary information and Column names of a given DataFrame.\n",
    "\n",
    "    Parameters:\n",
    "    - data_frame (pandas.DataFrame): The DataFrame to be explored.\n",
    "\n",
    "    Returns:\n",
    "    - None\n",
    "    \"\"\"\n",
    "    print(data_frame.shape)\n",
    "    print('================================================================')\n",
    "    print(data_frame.info())\n",
    "    print('================================================================')\n",
    "    print(data_frame.columns)"
   ]
  },
  {
   "cell_type": "code",
   "execution_count": 5,
   "metadata": {},
   "outputs": [
    {
     "data": {
      "text/html": [
       "<div>\n",
       "<style scoped>\n",
       "    .dataframe tbody tr th:only-of-type {\n",
       "        vertical-align: middle;\n",
       "    }\n",
       "\n",
       "    .dataframe tbody tr th {\n",
       "        vertical-align: top;\n",
       "    }\n",
       "\n",
       "    .dataframe thead th {\n",
       "        text-align: right;\n",
       "    }\n",
       "</style>\n",
       "<table border=\"1\" class=\"dataframe\">\n",
       "  <thead>\n",
       "    <tr style=\"text-align: right;\">\n",
       "      <th></th>\n",
       "      <th>h1n1_concern</th>\n",
       "      <th>h1n1_knowledge</th>\n",
       "      <th>behavioral_antiviral_meds</th>\n",
       "      <th>behavioral_avoidance</th>\n",
       "      <th>behavioral_face_mask</th>\n",
       "      <th>behavioral_wash_hands</th>\n",
       "      <th>behavioral_large_gatherings</th>\n",
       "      <th>behavioral_outside_home</th>\n",
       "      <th>behavioral_touch_face</th>\n",
       "      <th>doctor_recc_h1n1</th>\n",
       "      <th>...</th>\n",
       "      <th>income_poverty</th>\n",
       "      <th>marital_status</th>\n",
       "      <th>rent_or_own</th>\n",
       "      <th>employment_status</th>\n",
       "      <th>hhs_geo_region</th>\n",
       "      <th>census_msa</th>\n",
       "      <th>household_adults</th>\n",
       "      <th>household_children</th>\n",
       "      <th>employment_industry</th>\n",
       "      <th>employment_occupation</th>\n",
       "    </tr>\n",
       "    <tr>\n",
       "      <th>respondent_id</th>\n",
       "      <th></th>\n",
       "      <th></th>\n",
       "      <th></th>\n",
       "      <th></th>\n",
       "      <th></th>\n",
       "      <th></th>\n",
       "      <th></th>\n",
       "      <th></th>\n",
       "      <th></th>\n",
       "      <th></th>\n",
       "      <th></th>\n",
       "      <th></th>\n",
       "      <th></th>\n",
       "      <th></th>\n",
       "      <th></th>\n",
       "      <th></th>\n",
       "      <th></th>\n",
       "      <th></th>\n",
       "      <th></th>\n",
       "      <th></th>\n",
       "      <th></th>\n",
       "    </tr>\n",
       "  </thead>\n",
       "  <tbody>\n",
       "    <tr>\n",
       "      <th>0</th>\n",
       "      <td>1.0</td>\n",
       "      <td>0.0</td>\n",
       "      <td>0.0</td>\n",
       "      <td>0.0</td>\n",
       "      <td>0.0</td>\n",
       "      <td>0.0</td>\n",
       "      <td>0.0</td>\n",
       "      <td>1.0</td>\n",
       "      <td>1.0</td>\n",
       "      <td>0.0</td>\n",
       "      <td>...</td>\n",
       "      <td>Below Poverty</td>\n",
       "      <td>Not Married</td>\n",
       "      <td>Own</td>\n",
       "      <td>Not in Labor Force</td>\n",
       "      <td>oxchjgsf</td>\n",
       "      <td>Non-MSA</td>\n",
       "      <td>0.0</td>\n",
       "      <td>0.0</td>\n",
       "      <td>NaN</td>\n",
       "      <td>NaN</td>\n",
       "    </tr>\n",
       "    <tr>\n",
       "      <th>1</th>\n",
       "      <td>3.0</td>\n",
       "      <td>2.0</td>\n",
       "      <td>0.0</td>\n",
       "      <td>1.0</td>\n",
       "      <td>0.0</td>\n",
       "      <td>1.0</td>\n",
       "      <td>0.0</td>\n",
       "      <td>1.0</td>\n",
       "      <td>1.0</td>\n",
       "      <td>0.0</td>\n",
       "      <td>...</td>\n",
       "      <td>Below Poverty</td>\n",
       "      <td>Not Married</td>\n",
       "      <td>Rent</td>\n",
       "      <td>Employed</td>\n",
       "      <td>bhuqouqj</td>\n",
       "      <td>MSA, Not Principle  City</td>\n",
       "      <td>0.0</td>\n",
       "      <td>0.0</td>\n",
       "      <td>pxcmvdjn</td>\n",
       "      <td>xgwztkwe</td>\n",
       "    </tr>\n",
       "    <tr>\n",
       "      <th>2</th>\n",
       "      <td>1.0</td>\n",
       "      <td>1.0</td>\n",
       "      <td>0.0</td>\n",
       "      <td>1.0</td>\n",
       "      <td>0.0</td>\n",
       "      <td>0.0</td>\n",
       "      <td>0.0</td>\n",
       "      <td>0.0</td>\n",
       "      <td>0.0</td>\n",
       "      <td>NaN</td>\n",
       "      <td>...</td>\n",
       "      <td>&lt;= $75,000, Above Poverty</td>\n",
       "      <td>Not Married</td>\n",
       "      <td>Own</td>\n",
       "      <td>Employed</td>\n",
       "      <td>qufhixun</td>\n",
       "      <td>MSA, Not Principle  City</td>\n",
       "      <td>2.0</td>\n",
       "      <td>0.0</td>\n",
       "      <td>rucpziij</td>\n",
       "      <td>xtkaffoo</td>\n",
       "    </tr>\n",
       "    <tr>\n",
       "      <th>3</th>\n",
       "      <td>1.0</td>\n",
       "      <td>1.0</td>\n",
       "      <td>0.0</td>\n",
       "      <td>1.0</td>\n",
       "      <td>0.0</td>\n",
       "      <td>1.0</td>\n",
       "      <td>1.0</td>\n",
       "      <td>0.0</td>\n",
       "      <td>0.0</td>\n",
       "      <td>0.0</td>\n",
       "      <td>...</td>\n",
       "      <td>Below Poverty</td>\n",
       "      <td>Not Married</td>\n",
       "      <td>Rent</td>\n",
       "      <td>Not in Labor Force</td>\n",
       "      <td>lrircsnp</td>\n",
       "      <td>MSA, Principle City</td>\n",
       "      <td>0.0</td>\n",
       "      <td>0.0</td>\n",
       "      <td>NaN</td>\n",
       "      <td>NaN</td>\n",
       "    </tr>\n",
       "    <tr>\n",
       "      <th>4</th>\n",
       "      <td>2.0</td>\n",
       "      <td>1.0</td>\n",
       "      <td>0.0</td>\n",
       "      <td>1.0</td>\n",
       "      <td>0.0</td>\n",
       "      <td>1.0</td>\n",
       "      <td>1.0</td>\n",
       "      <td>0.0</td>\n",
       "      <td>1.0</td>\n",
       "      <td>0.0</td>\n",
       "      <td>...</td>\n",
       "      <td>&lt;= $75,000, Above Poverty</td>\n",
       "      <td>Married</td>\n",
       "      <td>Own</td>\n",
       "      <td>Employed</td>\n",
       "      <td>qufhixun</td>\n",
       "      <td>MSA, Not Principle  City</td>\n",
       "      <td>1.0</td>\n",
       "      <td>0.0</td>\n",
       "      <td>wxleyezf</td>\n",
       "      <td>emcorrxb</td>\n",
       "    </tr>\n",
       "  </tbody>\n",
       "</table>\n",
       "<p>5 rows × 35 columns</p>\n",
       "</div>"
      ],
      "text/plain": [
       "               h1n1_concern  h1n1_knowledge  behavioral_antiviral_meds  \\\n",
       "respondent_id                                                            \n",
       "0                       1.0             0.0                        0.0   \n",
       "1                       3.0             2.0                        0.0   \n",
       "2                       1.0             1.0                        0.0   \n",
       "3                       1.0             1.0                        0.0   \n",
       "4                       2.0             1.0                        0.0   \n",
       "\n",
       "               behavioral_avoidance  behavioral_face_mask  \\\n",
       "respondent_id                                               \n",
       "0                               0.0                   0.0   \n",
       "1                               1.0                   0.0   \n",
       "2                               1.0                   0.0   \n",
       "3                               1.0                   0.0   \n",
       "4                               1.0                   0.0   \n",
       "\n",
       "               behavioral_wash_hands  behavioral_large_gatherings  \\\n",
       "respondent_id                                                       \n",
       "0                                0.0                          0.0   \n",
       "1                                1.0                          0.0   \n",
       "2                                0.0                          0.0   \n",
       "3                                1.0                          1.0   \n",
       "4                                1.0                          1.0   \n",
       "\n",
       "               behavioral_outside_home  behavioral_touch_face  \\\n",
       "respondent_id                                                   \n",
       "0                                  1.0                    1.0   \n",
       "1                                  1.0                    1.0   \n",
       "2                                  0.0                    0.0   \n",
       "3                                  0.0                    0.0   \n",
       "4                                  0.0                    1.0   \n",
       "\n",
       "               doctor_recc_h1n1  ...             income_poverty  \\\n",
       "respondent_id                    ...                              \n",
       "0                           0.0  ...              Below Poverty   \n",
       "1                           0.0  ...              Below Poverty   \n",
       "2                           NaN  ...  <= $75,000, Above Poverty   \n",
       "3                           0.0  ...              Below Poverty   \n",
       "4                           0.0  ...  <= $75,000, Above Poverty   \n",
       "\n",
       "               marital_status  rent_or_own   employment_status  \\\n",
       "respondent_id                                                    \n",
       "0                 Not Married          Own  Not in Labor Force   \n",
       "1                 Not Married         Rent            Employed   \n",
       "2                 Not Married          Own            Employed   \n",
       "3                 Not Married         Rent  Not in Labor Force   \n",
       "4                     Married          Own            Employed   \n",
       "\n",
       "               hhs_geo_region                census_msa  household_adults  \\\n",
       "respondent_id                                                               \n",
       "0                    oxchjgsf                   Non-MSA               0.0   \n",
       "1                    bhuqouqj  MSA, Not Principle  City               0.0   \n",
       "2                    qufhixun  MSA, Not Principle  City               2.0   \n",
       "3                    lrircsnp       MSA, Principle City               0.0   \n",
       "4                    qufhixun  MSA, Not Principle  City               1.0   \n",
       "\n",
       "               household_children  employment_industry  employment_occupation  \n",
       "respondent_id                                                                  \n",
       "0                             0.0                  NaN                    NaN  \n",
       "1                             0.0             pxcmvdjn               xgwztkwe  \n",
       "2                             0.0             rucpziij               xtkaffoo  \n",
       "3                             0.0                  NaN                    NaN  \n",
       "4                             0.0             wxleyezf               emcorrxb  \n",
       "\n",
       "[5 rows x 35 columns]"
      ]
     },
     "execution_count": 5,
     "metadata": {},
     "output_type": "execute_result"
    }
   ],
   "source": [
    "features_raw.head()"
   ]
  },
  {
   "cell_type": "code",
   "execution_count": 6,
   "metadata": {},
   "outputs": [
    {
     "name": "stdout",
     "output_type": "stream",
     "text": [
      "(26707, 35)\n",
      "================================================================\n",
      "<class 'pandas.core.frame.DataFrame'>\n",
      "Int64Index: 26707 entries, 0 to 26706\n",
      "Data columns (total 35 columns):\n",
      " #   Column                       Non-Null Count  Dtype  \n",
      "---  ------                       --------------  -----  \n",
      " 0   h1n1_concern                 26615 non-null  float64\n",
      " 1   h1n1_knowledge               26591 non-null  float64\n",
      " 2   behavioral_antiviral_meds    26636 non-null  float64\n",
      " 3   behavioral_avoidance         26499 non-null  float64\n",
      " 4   behavioral_face_mask         26688 non-null  float64\n",
      " 5   behavioral_wash_hands        26665 non-null  float64\n",
      " 6   behavioral_large_gatherings  26620 non-null  float64\n",
      " 7   behavioral_outside_home      26625 non-null  float64\n",
      " 8   behavioral_touch_face        26579 non-null  float64\n",
      " 9   doctor_recc_h1n1             24547 non-null  float64\n",
      " 10  doctor_recc_seasonal         24547 non-null  float64\n",
      " 11  chronic_med_condition        25736 non-null  float64\n",
      " 12  child_under_6_months         25887 non-null  float64\n",
      " 13  health_worker                25903 non-null  float64\n",
      " 14  health_insurance             14433 non-null  float64\n",
      " 15  opinion_h1n1_vacc_effective  26316 non-null  float64\n",
      " 16  opinion_h1n1_risk            26319 non-null  float64\n",
      " 17  opinion_h1n1_sick_from_vacc  26312 non-null  float64\n",
      " 18  opinion_seas_vacc_effective  26245 non-null  float64\n",
      " 19  opinion_seas_risk            26193 non-null  float64\n",
      " 20  opinion_seas_sick_from_vacc  26170 non-null  float64\n",
      " 21  age_group                    26707 non-null  object \n",
      " 22  education                    25300 non-null  object \n",
      " 23  race                         26707 non-null  object \n",
      " 24  sex                          26707 non-null  object \n",
      " 25  income_poverty               22284 non-null  object \n",
      " 26  marital_status               25299 non-null  object \n",
      " 27  rent_or_own                  24665 non-null  object \n",
      " 28  employment_status            25244 non-null  object \n",
      " 29  hhs_geo_region               26707 non-null  object \n",
      " 30  census_msa                   26707 non-null  object \n",
      " 31  household_adults             26458 non-null  float64\n",
      " 32  household_children           26458 non-null  float64\n",
      " 33  employment_industry          13377 non-null  object \n",
      " 34  employment_occupation        13237 non-null  object \n",
      "dtypes: float64(23), object(12)\n",
      "memory usage: 7.3+ MB\n",
      "None\n",
      "================================================================\n",
      "Index(['h1n1_concern', 'h1n1_knowledge', 'behavioral_antiviral_meds',\n",
      "       'behavioral_avoidance', 'behavioral_face_mask', 'behavioral_wash_hands',\n",
      "       'behavioral_large_gatherings', 'behavioral_outside_home',\n",
      "       'behavioral_touch_face', 'doctor_recc_h1n1', 'doctor_recc_seasonal',\n",
      "       'chronic_med_condition', 'child_under_6_months', 'health_worker',\n",
      "       'health_insurance', 'opinion_h1n1_vacc_effective', 'opinion_h1n1_risk',\n",
      "       'opinion_h1n1_sick_from_vacc', 'opinion_seas_vacc_effective',\n",
      "       'opinion_seas_risk', 'opinion_seas_sick_from_vacc', 'age_group',\n",
      "       'education', 'race', 'sex', 'income_poverty', 'marital_status',\n",
      "       'rent_or_own', 'employment_status', 'hhs_geo_region', 'census_msa',\n",
      "       'household_adults', 'household_children', 'employment_industry',\n",
      "       'employment_occupation'],\n",
      "      dtype='object')\n"
     ]
    }
   ],
   "source": [
    "explore(features_raw)"
   ]
  },
  {
   "attachments": {},
   "cell_type": "markdown",
   "metadata": {},
   "source": [
    "- Label Dataset"
   ]
  },
  {
   "cell_type": "code",
   "execution_count": 7,
   "metadata": {},
   "outputs": [
    {
     "data": {
      "text/html": [
       "<div>\n",
       "<style scoped>\n",
       "    .dataframe tbody tr th:only-of-type {\n",
       "        vertical-align: middle;\n",
       "    }\n",
       "\n",
       "    .dataframe tbody tr th {\n",
       "        vertical-align: top;\n",
       "    }\n",
       "\n",
       "    .dataframe thead th {\n",
       "        text-align: right;\n",
       "    }\n",
       "</style>\n",
       "<table border=\"1\" class=\"dataframe\">\n",
       "  <thead>\n",
       "    <tr style=\"text-align: right;\">\n",
       "      <th></th>\n",
       "      <th>h1n1_vaccine</th>\n",
       "      <th>seasonal_vaccine</th>\n",
       "    </tr>\n",
       "    <tr>\n",
       "      <th>respondent_id</th>\n",
       "      <th></th>\n",
       "      <th></th>\n",
       "    </tr>\n",
       "  </thead>\n",
       "  <tbody>\n",
       "    <tr>\n",
       "      <th>0</th>\n",
       "      <td>0</td>\n",
       "      <td>0</td>\n",
       "    </tr>\n",
       "    <tr>\n",
       "      <th>1</th>\n",
       "      <td>0</td>\n",
       "      <td>1</td>\n",
       "    </tr>\n",
       "    <tr>\n",
       "      <th>2</th>\n",
       "      <td>0</td>\n",
       "      <td>0</td>\n",
       "    </tr>\n",
       "    <tr>\n",
       "      <th>3</th>\n",
       "      <td>0</td>\n",
       "      <td>1</td>\n",
       "    </tr>\n",
       "    <tr>\n",
       "      <th>4</th>\n",
       "      <td>0</td>\n",
       "      <td>0</td>\n",
       "    </tr>\n",
       "  </tbody>\n",
       "</table>\n",
       "</div>"
      ],
      "text/plain": [
       "               h1n1_vaccine  seasonal_vaccine\n",
       "respondent_id                                \n",
       "0                         0                 0\n",
       "1                         0                 1\n",
       "2                         0                 0\n",
       "3                         0                 1\n",
       "4                         0                 0"
      ]
     },
     "execution_count": 7,
     "metadata": {},
     "output_type": "execute_result"
    }
   ],
   "source": [
    "labels_raw.head()"
   ]
  },
  {
   "cell_type": "code",
   "execution_count": 8,
   "metadata": {},
   "outputs": [
    {
     "name": "stdout",
     "output_type": "stream",
     "text": [
      "(26707, 2)\n",
      "================================================================\n",
      "<class 'pandas.core.frame.DataFrame'>\n",
      "Int64Index: 26707 entries, 0 to 26706\n",
      "Data columns (total 2 columns):\n",
      " #   Column            Non-Null Count  Dtype\n",
      "---  ------            --------------  -----\n",
      " 0   h1n1_vaccine      26707 non-null  int64\n",
      " 1   seasonal_vaccine  26707 non-null  int64\n",
      "dtypes: int64(2)\n",
      "memory usage: 625.9 KB\n",
      "None\n",
      "================================================================\n",
      "Index(['h1n1_vaccine', 'seasonal_vaccine'], dtype='object')\n"
     ]
    }
   ],
   "source": [
    "explore(labels_raw)"
   ]
  },
  {
   "attachments": {},
   "cell_type": "markdown",
   "metadata": {},
   "source": [
    "## Data Preparation"
   ]
  },
  {
   "attachments": {},
   "cell_type": "markdown",
   "metadata": {},
   "source": [
    "1. Missing Values"
   ]
  },
  {
   "cell_type": "code",
   "execution_count": 9,
   "metadata": {},
   "outputs": [],
   "source": [
    "def identifying_missing_values(data):\n",
    "    \"\"\"Identify if the data has missing values\"\"\"\n",
    "    missing = []\n",
    "    for i in data.isnull().any():\n",
    "        missing.append(i)\n",
    "    missing_set = set(missing)\n",
    "    if (len(missing_set) == 1):\n",
    "        out = print(\"The Data has no missing values\")\n",
    "    else:\n",
    "        out = print(\"The Data has missing values.\")\n",
    "\n",
    "    return out"
   ]
  },
  {
   "cell_type": "code",
   "execution_count": 10,
   "metadata": {},
   "outputs": [],
   "source": [
    "\n",
    "def missing_values(data):\n",
    "    \"\"\"A simple function to identify data has missing values\"\"\"\n",
    "    miss = data.isnull().sum().sort_values(ascending = False)\n",
    "\n",
    "    # calculate percentage of the missing values\n",
    "    percentage_miss = (data.isnull().sum() / len(data)).sort_values(ascending = False)\n",
    "\n",
    "    # store in a dataframe \n",
    "    missing = pd.DataFrame({\"Missing Values\": miss, \"Percentage\": percentage_miss})\n",
    "\n",
    "    # remove values that are missing \n",
    "    missing.drop(missing[missing[\"Percentage\"] == 0].index, inplace = True)\n",
    "\n",
    "    return missing"
   ]
  },
  {
   "cell_type": "code",
   "execution_count": 11,
   "metadata": {},
   "outputs": [
    {
     "name": "stdout",
     "output_type": "stream",
     "text": [
      "The Data has missing values.\n"
     ]
    },
    {
     "data": {
      "text/html": [
       "<div>\n",
       "<style scoped>\n",
       "    .dataframe tbody tr th:only-of-type {\n",
       "        vertical-align: middle;\n",
       "    }\n",
       "\n",
       "    .dataframe tbody tr th {\n",
       "        vertical-align: top;\n",
       "    }\n",
       "\n",
       "    .dataframe thead th {\n",
       "        text-align: right;\n",
       "    }\n",
       "</style>\n",
       "<table border=\"1\" class=\"dataframe\">\n",
       "  <thead>\n",
       "    <tr style=\"text-align: right;\">\n",
       "      <th></th>\n",
       "      <th>Missing Values</th>\n",
       "      <th>Percentage</th>\n",
       "    </tr>\n",
       "  </thead>\n",
       "  <tbody>\n",
       "    <tr>\n",
       "      <th>employment_occupation</th>\n",
       "      <td>13470</td>\n",
       "      <td>0.504362</td>\n",
       "    </tr>\n",
       "    <tr>\n",
       "      <th>employment_industry</th>\n",
       "      <td>13330</td>\n",
       "      <td>0.499120</td>\n",
       "    </tr>\n",
       "    <tr>\n",
       "      <th>health_insurance</th>\n",
       "      <td>12274</td>\n",
       "      <td>0.459580</td>\n",
       "    </tr>\n",
       "    <tr>\n",
       "      <th>income_poverty</th>\n",
       "      <td>4423</td>\n",
       "      <td>0.165612</td>\n",
       "    </tr>\n",
       "    <tr>\n",
       "      <th>doctor_recc_h1n1</th>\n",
       "      <td>2160</td>\n",
       "      <td>0.080878</td>\n",
       "    </tr>\n",
       "    <tr>\n",
       "      <th>doctor_recc_seasonal</th>\n",
       "      <td>2160</td>\n",
       "      <td>0.080878</td>\n",
       "    </tr>\n",
       "    <tr>\n",
       "      <th>rent_or_own</th>\n",
       "      <td>2042</td>\n",
       "      <td>0.076459</td>\n",
       "    </tr>\n",
       "    <tr>\n",
       "      <th>employment_status</th>\n",
       "      <td>1463</td>\n",
       "      <td>0.054780</td>\n",
       "    </tr>\n",
       "    <tr>\n",
       "      <th>marital_status</th>\n",
       "      <td>1408</td>\n",
       "      <td>0.052720</td>\n",
       "    </tr>\n",
       "    <tr>\n",
       "      <th>education</th>\n",
       "      <td>1407</td>\n",
       "      <td>0.052683</td>\n",
       "    </tr>\n",
       "    <tr>\n",
       "      <th>chronic_med_condition</th>\n",
       "      <td>971</td>\n",
       "      <td>0.036358</td>\n",
       "    </tr>\n",
       "    <tr>\n",
       "      <th>child_under_6_months</th>\n",
       "      <td>820</td>\n",
       "      <td>0.030704</td>\n",
       "    </tr>\n",
       "    <tr>\n",
       "      <th>health_worker</th>\n",
       "      <td>804</td>\n",
       "      <td>0.030104</td>\n",
       "    </tr>\n",
       "    <tr>\n",
       "      <th>opinion_seas_sick_from_vacc</th>\n",
       "      <td>537</td>\n",
       "      <td>0.020107</td>\n",
       "    </tr>\n",
       "    <tr>\n",
       "      <th>opinion_seas_risk</th>\n",
       "      <td>514</td>\n",
       "      <td>0.019246</td>\n",
       "    </tr>\n",
       "    <tr>\n",
       "      <th>opinion_seas_vacc_effective</th>\n",
       "      <td>462</td>\n",
       "      <td>0.017299</td>\n",
       "    </tr>\n",
       "    <tr>\n",
       "      <th>opinion_h1n1_sick_from_vacc</th>\n",
       "      <td>395</td>\n",
       "      <td>0.014790</td>\n",
       "    </tr>\n",
       "    <tr>\n",
       "      <th>opinion_h1n1_vacc_effective</th>\n",
       "      <td>391</td>\n",
       "      <td>0.014640</td>\n",
       "    </tr>\n",
       "    <tr>\n",
       "      <th>opinion_h1n1_risk</th>\n",
       "      <td>388</td>\n",
       "      <td>0.014528</td>\n",
       "    </tr>\n",
       "    <tr>\n",
       "      <th>household_children</th>\n",
       "      <td>249</td>\n",
       "      <td>0.009323</td>\n",
       "    </tr>\n",
       "    <tr>\n",
       "      <th>household_adults</th>\n",
       "      <td>249</td>\n",
       "      <td>0.009323</td>\n",
       "    </tr>\n",
       "    <tr>\n",
       "      <th>behavioral_avoidance</th>\n",
       "      <td>208</td>\n",
       "      <td>0.007788</td>\n",
       "    </tr>\n",
       "    <tr>\n",
       "      <th>behavioral_touch_face</th>\n",
       "      <td>128</td>\n",
       "      <td>0.004793</td>\n",
       "    </tr>\n",
       "    <tr>\n",
       "      <th>h1n1_knowledge</th>\n",
       "      <td>116</td>\n",
       "      <td>0.004343</td>\n",
       "    </tr>\n",
       "    <tr>\n",
       "      <th>h1n1_concern</th>\n",
       "      <td>92</td>\n",
       "      <td>0.003445</td>\n",
       "    </tr>\n",
       "    <tr>\n",
       "      <th>behavioral_large_gatherings</th>\n",
       "      <td>87</td>\n",
       "      <td>0.003258</td>\n",
       "    </tr>\n",
       "    <tr>\n",
       "      <th>behavioral_outside_home</th>\n",
       "      <td>82</td>\n",
       "      <td>0.003070</td>\n",
       "    </tr>\n",
       "    <tr>\n",
       "      <th>behavioral_antiviral_meds</th>\n",
       "      <td>71</td>\n",
       "      <td>0.002658</td>\n",
       "    </tr>\n",
       "    <tr>\n",
       "      <th>behavioral_wash_hands</th>\n",
       "      <td>42</td>\n",
       "      <td>0.001573</td>\n",
       "    </tr>\n",
       "    <tr>\n",
       "      <th>behavioral_face_mask</th>\n",
       "      <td>19</td>\n",
       "      <td>0.000711</td>\n",
       "    </tr>\n",
       "  </tbody>\n",
       "</table>\n",
       "</div>"
      ],
      "text/plain": [
       "                             Missing Values  Percentage\n",
       "employment_occupation                 13470    0.504362\n",
       "employment_industry                   13330    0.499120\n",
       "health_insurance                      12274    0.459580\n",
       "income_poverty                         4423    0.165612\n",
       "doctor_recc_h1n1                       2160    0.080878\n",
       "doctor_recc_seasonal                   2160    0.080878\n",
       "rent_or_own                            2042    0.076459\n",
       "employment_status                      1463    0.054780\n",
       "marital_status                         1408    0.052720\n",
       "education                              1407    0.052683\n",
       "chronic_med_condition                   971    0.036358\n",
       "child_under_6_months                    820    0.030704\n",
       "health_worker                           804    0.030104\n",
       "opinion_seas_sick_from_vacc             537    0.020107\n",
       "opinion_seas_risk                       514    0.019246\n",
       "opinion_seas_vacc_effective             462    0.017299\n",
       "opinion_h1n1_sick_from_vacc             395    0.014790\n",
       "opinion_h1n1_vacc_effective             391    0.014640\n",
       "opinion_h1n1_risk                       388    0.014528\n",
       "household_children                      249    0.009323\n",
       "household_adults                        249    0.009323\n",
       "behavioral_avoidance                    208    0.007788\n",
       "behavioral_touch_face                   128    0.004793\n",
       "h1n1_knowledge                          116    0.004343\n",
       "h1n1_concern                             92    0.003445\n",
       "behavioral_large_gatherings              87    0.003258\n",
       "behavioral_outside_home                  82    0.003070\n",
       "behavioral_antiviral_meds                71    0.002658\n",
       "behavioral_wash_hands                    42    0.001573\n",
       "behavioral_face_mask                     19    0.000711"
      ]
     },
     "execution_count": 11,
     "metadata": {},
     "output_type": "execute_result"
    }
   ],
   "source": [
    "\n",
    "identifying_missing_values(features_raw)\n",
    "missing_values(features_raw)"
   ]
  },
  {
   "cell_type": "code",
   "execution_count": 12,
   "metadata": {},
   "outputs": [
    {
     "name": "stdout",
     "output_type": "stream",
     "text": [
      "The Data has no missing values\n"
     ]
    },
    {
     "data": {
      "text/html": [
       "<div>\n",
       "<style scoped>\n",
       "    .dataframe tbody tr th:only-of-type {\n",
       "        vertical-align: middle;\n",
       "    }\n",
       "\n",
       "    .dataframe tbody tr th {\n",
       "        vertical-align: top;\n",
       "    }\n",
       "\n",
       "    .dataframe thead th {\n",
       "        text-align: right;\n",
       "    }\n",
       "</style>\n",
       "<table border=\"1\" class=\"dataframe\">\n",
       "  <thead>\n",
       "    <tr style=\"text-align: right;\">\n",
       "      <th></th>\n",
       "      <th>Missing Values</th>\n",
       "      <th>Percentage</th>\n",
       "    </tr>\n",
       "  </thead>\n",
       "  <tbody>\n",
       "  </tbody>\n",
       "</table>\n",
       "</div>"
      ],
      "text/plain": [
       "Empty DataFrame\n",
       "Columns: [Missing Values, Percentage]\n",
       "Index: []"
      ]
     },
     "execution_count": 12,
     "metadata": {},
     "output_type": "execute_result"
    }
   ],
   "source": [
    "identifying_missing_values(labels_raw)\n",
    "missing_values(labels_raw)"
   ]
  },
  {
   "attachments": {},
   "cell_type": "markdown",
   "metadata": {},
   "source": [
    "The features will be divided into two categories: **categorical and numerical variables**.\n",
    "- Handling missing Values for numeric columns"
   ]
  },
  {
   "cell_type": "code",
   "execution_count": 13,
   "metadata": {},
   "outputs": [],
   "source": [
    "# first, let's make a copy of our original data\n",
    "features_copy = features_raw.copy()\n",
    "\n",
    "# numeric features\n",
    "features_num = features_copy.select_dtypes(exclude='object')\n",
    "\n",
    "# categorical features\n",
    "features_cat = features_copy.select_dtypes(include='object') "
   ]
  },
  {
   "cell_type": "code",
   "execution_count": 14,
   "metadata": {},
   "outputs": [
    {
     "name": "stdout",
     "output_type": "stream",
     "text": [
      "The Data has no missing values\n"
     ]
    }
   ],
   "source": [
    "# numeric features\n",
    "# instantiate imputer\n",
    "imputer = SimpleImputer(strategy='most_frequent', missing_values=np.nan)\n",
    "\n",
    "# fit and transform\n",
    "imputer.fit(features_num)\n",
    "num_features = imputer.transform(features_num)\n",
    "num_features = pd.DataFrame(num_features,\n",
    "             columns=features_num.columns,\n",
    "             index=features_copy.index)\n",
    "\n",
    "# check for missing values\n",
    "identifying_missing_values(num_features)"
   ]
  },
  {
   "cell_type": "code",
   "execution_count": 15,
   "metadata": {},
   "outputs": [
    {
     "name": "stdout",
     "output_type": "stream",
     "text": [
      "The Data has no missing values\n"
     ]
    }
   ],
   "source": [
    "# categorical features\n",
    "# instatiate imputer\n",
    "imputer2 = SimpleImputer(strategy='most_frequent', missing_values=np.nan)\n",
    "\n",
    "# fit and transform\n",
    "imputer2.fit(features_cat)\n",
    "cat_features = imputer2.transform(features_cat)\n",
    "cat_features = pd.DataFrame(cat_features,\n",
    "             columns=features_cat.columns)\n",
    "\n",
    "# check for missing values\n",
    "identifying_missing_values(cat_features)"
   ]
  },
  {
   "attachments": {},
   "cell_type": "markdown",
   "metadata": {},
   "source": [
    "2. Duplicated values"
   ]
  },
  {
   "cell_type": "code",
   "execution_count": 16,
   "metadata": {},
   "outputs": [],
   "source": [
    "def identify_duplicates(data):\n",
    "    \"\"\"Simple function to identify any duplicates\"\"\"\n",
    "\n",
    "    duplicates = []\n",
    "    for i in data.duplicated():\n",
    "        duplicates.append(i)\n",
    "    # identify if there is any duplicates. (If there is any we expect a True value in the list duplicates)\n",
    "    duplicates_set = set(duplicates) \n",
    "    if (len(duplicates_set) == 1):\n",
    "        print(\"The Data has no duplicates\")\n",
    "    else:\n",
    "        no_true = 0\n",
    "        for val in duplicates:\n",
    "            if (val == True):\n",
    "                no_true += 1\n",
    "        # percentage of the data represented by duplicates \n",
    "        duplicates_percentage = np.round(((no_true / len(data)) * 100), 3)\n",
    "        print(f\"The Data has {no_true} duplicated rows.\\nThis constitutes {duplicates_percentage}% of the data set.\") \n"
   ]
  },
  {
   "cell_type": "code",
   "execution_count": 17,
   "metadata": {},
   "outputs": [
    {
     "name": "stdout",
     "output_type": "stream",
     "text": [
      "The Data has no duplicates\n"
     ]
    }
   ],
   "source": [
    "\n",
    "identify_duplicates(features_copy)"
   ]
  },
  {
   "attachments": {},
   "cell_type": "markdown",
   "metadata": {},
   "source": [
    "- Encoding categorical featutes"
   ]
  },
  {
   "cell_type": "code",
   "execution_count": 18,
   "metadata": {},
   "outputs": [],
   "source": [
    "# Create an instance of the OrdinalEncoder\n",
    "encoder = OrdinalEncoder()\n",
    "\n",
    "encoded_cat = pd.DataFrame(encoder.fit_transform(cat_features),\n",
    "                            columns=cat_features.columns)"
   ]
  },
  {
   "attachments": {},
   "cell_type": "markdown",
   "metadata": {},
   "source": [
    "## Exploratory Data Analysis"
   ]
  },
  {
   "cell_type": "code",
   "execution_count": 19,
   "metadata": {},
   "outputs": [],
   "source": [
    "def hist_plot(data_frame, column):\n",
    "    \"\"\"\n",
    "    Creates a countplot to visualize the distribution of values in a categorical column of a DataFrame.\n",
    "\n",
    "    Parameters:\n",
    "        data_frame (pandas.DataFrame): The DataFrame containing the data.\n",
    "        column (str): The name of the column from the DataFrame to plot.\n",
    "\n",
    "    Returns:\n",
    "        None\n",
    "    \"\"\"\n",
    "    sns.set_style(\"whitegrid\") \n",
    "    plt.figure(figsize=(5, 3))\n",
    "    sns.countplot(data=data_frame, y=data_frame[column])\n",
    "    plt.title(f'{(column)} Countplot')\n",
    "    plt.show();"
   ]
  },
  {
   "cell_type": "code",
   "execution_count": 20,
   "metadata": {},
   "outputs": [],
   "source": [
    "new_features = pd.concat([num_features, encoded_cat],axis=1)\n"
   ]
  },
  {
   "cell_type": "markdown",
   "metadata": {},
   "source": [
    "### Univariate"
   ]
  },
  {
   "attachments": {},
   "cell_type": "markdown",
   "metadata": {},
   "source": [
    "- Labels"
   ]
  },
  {
   "cell_type": "code",
   "execution_count": 21,
   "metadata": {},
   "outputs": [
    {
     "data": {
      "image/png": "[encoded data removed]",
      "text/plain": [
       "<Figure size 360x216 with 1 Axes>"
      ]
     },
     "metadata": {},
     "output_type": "display_data"
    }
   ],
   "source": [
    "hist_plot(labels_raw, 'h1n1_vaccine')"
   ]
  },
  {
   "cell_type": "code",
   "execution_count": 22,
   "metadata": {},
   "outputs": [
    {
     "data": {
      "image/png": "[encoded data removed]",
      "text/plain": [
       "<Figure size 360x216 with 1 Axes>"
      ]
     },
     "metadata": {},
     "output_type": "display_data"
    }
   ],
   "source": [
    "hist_plot(labels_raw, 'seasonal_vaccine')"
   ]
  },
  {
   "cell_type": "code",
   "execution_count": 23,
   "metadata": {},
   "outputs": [
    {
     "data": {
      "text/plain": [
       "0    0.534392\n",
       "1    0.465608\n",
       "Name: seasonal_vaccine, dtype: float64"
      ]
     },
     "execution_count": 23,
     "metadata": {},
     "output_type": "execute_result"
    }
   ],
   "source": [
    "labels_raw.seasonal_vaccine.value_counts(normalize=True)"
   ]
  },
  {
   "attachments": {},
   "cell_type": "markdown",
   "metadata": {},
   "source": [
    "We'll settle with the `seasonal_vaccine` target variable since it is faily balanced compared to `h1n1_vaccine`."
   ]
  },
  {
   "attachments": {},
   "cell_type": "markdown",
   "metadata": {},
   "source": [
    "- Features"
   ]
  },
  {
   "cell_type": "code",
   "execution_count": 24,
   "metadata": {},
   "outputs": [
    {
     "data": {
      "image/png": "[encoded data removed]",
      "text/plain": [
       "<Figure size 864x1080 with 10 Axes>"
      ]
     },
     "metadata": {},
     "output_type": "display_data"
    }
   ],
   "source": [
    "cat_features = cat_features.drop(['employment_industry', 'employment_occupation', 'hhs_geo_region'], axis=1)\n",
    "\n",
    "num_columns = len(cat_features.columns)\n",
    "num_rows = (num_columns + 1) // 2  # Calculate the number of rows required\n",
    "\n",
    "fig, axes = plt.subplots(nrows=num_rows, ncols=2, figsize=(12, num_rows * 3))\n",
    "\n",
    "# Flatten the axes array to access each subplot individually\n",
    "axes = axes.flatten()\n",
    "\n",
    "for i, column in enumerate(cat_features.columns):\n",
    "    sns.countplot(data=cat_features, y=column, ax=axes[i])\n",
    "    axes[i].set_title(f'Count plot of {column}')\n",
    "\n",
    "plt.tight_layout()  # Adjust spacing between subplots\n",
    "plt.show()"
   ]
  },
  {
   "attachments": {},
   "cell_type": "markdown",
   "metadata": {},
   "source": [
    "**Obervation from the plots:**\n",
    "- The dataset is *predominantly composed of individuals above the age of 65*, with relatively low variance across age groups.\n",
    "- The majority of respondents in the dataset hold a *college degree*.\n",
    "- Approximately *80% of the respondents identify as white*, indicating a strong representation of this racial group.\n",
    "- *Females* constitute approximately 60% of the respondents in the dataset.\n",
    "- Close to 60% of the respondents report earning an annual income *above the poverty line* and around $75,000.\n",
    "- The dataset primarily consists of employed individuals, suggesting that the majority of respondents are currently *working* at the time.\n",
    "- The majority of respondents in the dataset are *married*, indicating a prevalent marital status among the surveyed individuals.\n",
    "- More than 77% of the respondents *own homes* rather than renting, suggesting a higher prevalence of homeownership within the dataset.\n",
    "- The dataset primarily comprises individuals residing in *metropolitan statistical areas but not in principal cities*, indicating a focus on suburban or non-central urban areas for data collection."
   ]
  },
  {
   "attachments": {},
   "cell_type": "markdown",
   "metadata": {},
   "source": [
    "### Multivariate"
   ]
  },
  {
   "attachments": {},
   "cell_type": "markdown",
   "metadata": {},
   "source": [
    "- Relationship between `sex` and `seasonal_vaccine` uptake"
   ]
  },
  {
   "cell_type": "code",
   "execution_count": 25,
   "metadata": {},
   "outputs": [],
   "source": [
    "def multivariate_plot(data_frame, col):\n",
    "    # create a crosstab\n",
    "    crosstab = pd.crosstab(data_frame[col],labels_raw['seasonal_vaccine'],normalize=\"index\")\n",
    "\n",
    "    plt.figure(figsize=(8, 5))\n",
    "    crosstab.plot(kind = \"barh\",stacked = True)\n",
    "    plt.xlabel(\"Seasonal vaccine uptake\")\n",
    "    plt.title(f\"{col.title()} vs Seasonal flu vaccine uptake\")\n",
    "    plt.tight_layout();"
   ]
  },
  {
   "cell_type": "code",
   "execution_count": 26,
   "metadata": {},
   "outputs": [
    {
     "data": {
      "text/plain": [
       "<Figure size 576x360 with 0 Axes>"
      ]
     },
     "metadata": {},
     "output_type": "display_data"
    },
    {
     "data": {
      "image/png": "[encoded data removed]",
      "text/plain": [
       "<Figure size 432x288 with 1 Axes>"
      ]
     },
     "metadata": {},
     "output_type": "display_data"
    }
   ],
   "source": [
    "multivariate_plot(cat_features, 'sex')"
   ]
  },
  {
   "attachments": {},
   "cell_type": "markdown",
   "metadata": {},
   "source": [
    "Based on the analysis, it's observed that the vaccine uptake between genders is nearly equal, although there is a **higher proportion of women taking the seasonal flu vaccine**. This finding suggests that gender may not be a significant factor influencing overall vaccine uptake, but it indicates a *potential trend of higher vaccine acceptance among women in the dataset*. "
   ]
  },
  {
   "attachments": {},
   "cell_type": "markdown",
   "metadata": {},
   "source": [
    "- Relationship between `age_group` and `seasonal_vaccine`"
   ]
  },
  {
   "cell_type": "code",
   "execution_count": 27,
   "metadata": {},
   "outputs": [
    {
     "data": {
      "text/plain": [
       "<Figure size 576x360 with 0 Axes>"
      ]
     },
     "metadata": {},
     "output_type": "display_data"
    },
    {
     "data": {
      "image/png": "[encoded data removed]",
      "text/plain": [
       "<Figure size 432x288 with 1 Axes>"
      ]
     },
     "metadata": {},
     "output_type": "display_data"
    }
   ],
   "source": [
    "multivariate_plot(cat_features, 'age_group')"
   ]
  },
  {
   "attachments": {},
   "cell_type": "markdown",
   "metadata": {},
   "source": [
    "The analysis reveals that there is a notable disparity in seasonal vaccine uptake between different age groups. Specifically, **there is a substantial increase in the number of individuals aged 65 years and above who received the seasonal vaccine compared to younger age groups.** This observation highlights the significance of age as a determining factor in seasonal vaccine acceptance, suggesting that *older individuals show a higher propensity to seek and receive the vaccine compared to their younger counterparts.* "
   ]
  },
  {
   "cell_type": "markdown",
   "metadata": {},
   "source": [
    "- Relationship between `race` and `seasonal_vaccine`"
   ]
  },
  {
   "cell_type": "code",
   "execution_count": 28,
   "metadata": {},
   "outputs": [
    {
     "data": {
      "text/plain": [
       "<Figure size 576x360 with 0 Axes>"
      ]
     },
     "metadata": {},
     "output_type": "display_data"
    },
    {
     "data": {
      "image/png": "[encoded data removed]",
      "text/plain": [
       "<Figure size 432x288 with 1 Axes>"
      ]
     },
     "metadata": {},
     "output_type": "display_data"
    }
   ],
   "source": [
    "multivariate_plot(cat_features, 'race')"
   ]
  },
  {
   "attachments": {},
   "cell_type": "markdown",
   "metadata": {},
   "source": [
    "In examining the seasonal vaccine uptake across different racial groups, it was observed that the **vaccine uptake is relatively equal for the Black and Hispanic populations**. However, there is a significantly **higher uptake among the White population**. This finding suggests that *race may play a role in the likelihood of receiving the seasonal vaccine*, with a higher proportion of White individuals opting for vaccination compared to Black and Hispanic individuals. "
   ]
  },
  {
   "cell_type": "markdown",
   "metadata": {},
   "source": [
    "- Relationship between repondent's opinions to `seasonal_vaccine`"
   ]
  },
  {
   "cell_type": "code",
   "execution_count": 29,
   "metadata": {},
   "outputs": [
    {
     "data": {
      "text/plain": [
       "<Figure size 576x360 with 0 Axes>"
      ]
     },
     "metadata": {},
     "output_type": "display_data"
    },
    {
     "data": {
      "image/png": "[encoded data removed]",
      "text/plain": [
       "<Figure size 432x288 with 1 Axes>"
      ]
     },
     "metadata": {},
     "output_type": "display_data"
    },
    {
     "data": {
      "text/plain": [
       "<Figure size 576x360 with 0 Axes>"
      ]
     },
     "metadata": {},
     "output_type": "display_data"
    },
    {
     "data": {
      "image/png": "[encoded data removed]",
      "text/plain": [
       "<Figure size 432x288 with 1 Axes>"
      ]
     },
     "metadata": {},
     "output_type": "display_data"
    },
    {
     "data": {
      "text/plain": [
       "<Figure size 576x360 with 0 Axes>"
      ]
     },
     "metadata": {},
     "output_type": "display_data"
    },
    {
     "data": {
      "image/png": "[encoded data removed]",
      "text/plain": [
       "<Figure size 432x288 with 1 Axes>"
      ]
     },
     "metadata": {},
     "output_type": "display_data"
    }
   ],
   "source": [
    "multivariate_plot(new_features,'opinion_seas_vacc_effective')\n",
    "multivariate_plot(new_features, 'opinion_seas_risk')\n",
    "multivariate_plot(new_features, 'opinion_seas_vacc_effective')"
   ]
  },
  {
   "attachments": {},
   "cell_type": "markdown",
   "metadata": {},
   "source": [
    "The analysis indicates a **strong correlation between individuals' beliefs and their likelihood of taking the seasonal flu vaccine**. Specifically, individuals who believe in the effectiveness of the vaccine are more inclined to receive it. Moreover, there is a similar trend observed among individuals who exhibit higher levels of concern regarding the risk of contracting the flu without the vaccine—they are more likely to take the vaccine. These findings underscore the *influence of people's beliefs and risk perceptions* on their vaccination behavior."
   ]
  },
  {
   "attachments": {},
   "cell_type": "markdown",
   "metadata": {},
   "source": [
    "- Relationship `health_worker`, `employment_status` and `education` with `seasonal_vaccine`"
   ]
  },
  {
   "cell_type": "code",
   "execution_count": 30,
   "metadata": {},
   "outputs": [
    {
     "data": {
      "text/plain": [
       "<Figure size 576x360 with 0 Axes>"
      ]
     },
     "metadata": {},
     "output_type": "display_data"
    },
    {
     "data": {
      "image/png": "[encoded data removed]",
      "text/plain": [
       "<Figure size 432x288 with 1 Axes>"
      ]
     },
     "metadata": {},
     "output_type": "display_data"
    },
    {
     "data": {
      "text/plain": [
       "<Figure size 576x360 with 0 Axes>"
      ]
     },
     "metadata": {},
     "output_type": "display_data"
    },
    {
     "data": {
      "image/png": "[encoded data removed]",
      "text/plain": [
       "<Figure size 432x288 with 1 Axes>"
      ]
     },
     "metadata": {},
     "output_type": "display_data"
    },
    {
     "data": {
      "text/plain": [
       "<Figure size 576x360 with 0 Axes>"
      ]
     },
     "metadata": {},
     "output_type": "display_data"
    },
    {
     "data": {
      "image/png": "[encoded data removed]",
      "text/plain": [
       "<Figure size 432x288 with 1 Axes>"
      ]
     },
     "metadata": {},
     "output_type": "display_data"
    }
   ],
   "source": [
    "multivariate_plot(new_features, 'health_worker')\n",
    "multivariate_plot(cat_features, 'employment_status')\n",
    "multivariate_plot(cat_features, 'education')"
   ]
  },
  {
   "attachments": {},
   "cell_type": "markdown",
   "metadata": {},
   "source": [
    "Based on the analysis, it was observed that a **significant proportion of health workers have received the seasonal flu vaccine**, indicating a higher vaccination rate among this group. On the other hand, **unemployed individuals exhibited the lowest vaccination rate** compared to the employed and those not in labour force, suggesting a potential correlation between employment status and vaccine uptake.\n",
    "\n",
    "Regarding educational levels, while no significant changes were observed across different levels of education, it is noteworthy that **college graduates had the highest vaccination rate**. This finding suggests that *higher education attainment may be associated with a greater likelihood* of getting vaccinated against seasonal flu."
   ]
  },
  {
   "attachments": {},
   "cell_type": "markdown",
   "metadata": {},
   "source": [
    "## Feature Selection"
   ]
  },
  {
   "cell_type": "code",
   "execution_count": 31,
   "metadata": {},
   "outputs": [
    {
     "data": {
      "text/html": [
       "<div>\n",
       "<style scoped>\n",
       "    .dataframe tbody tr th:only-of-type {\n",
       "        vertical-align: middle;\n",
       "    }\n",
       "\n",
       "    .dataframe tbody tr th {\n",
       "        vertical-align: top;\n",
       "    }\n",
       "\n",
       "    .dataframe thead th {\n",
       "        text-align: right;\n",
       "    }\n",
       "</style>\n",
       "<table border=\"1\" class=\"dataframe\">\n",
       "  <thead>\n",
       "    <tr style=\"text-align: right;\">\n",
       "      <th></th>\n",
       "      <th>col_name</th>\n",
       "      <th>scores</th>\n",
       "    </tr>\n",
       "  </thead>\n",
       "  <tbody>\n",
       "    <tr>\n",
       "      <th>19</th>\n",
       "      <td>opinion_seas_risk</td>\n",
       "      <td>2794.888237</td>\n",
       "    </tr>\n",
       "    <tr>\n",
       "      <th>10</th>\n",
       "      <td>doctor_recc_seasonal</td>\n",
       "      <td>2421.579654</td>\n",
       "    </tr>\n",
       "    <tr>\n",
       "      <th>23</th>\n",
       "      <td>age_group</td>\n",
       "      <td>1997.217625</td>\n",
       "    </tr>\n",
       "    <tr>\n",
       "      <th>33</th>\n",
       "      <td>employment_industry</td>\n",
       "      <td>1669.849661</td>\n",
       "    </tr>\n",
       "    <tr>\n",
       "      <th>18</th>\n",
       "      <td>opinion_seas_vacc_effective</td>\n",
       "      <td>991.273021</td>\n",
       "    </tr>\n",
       "    <tr>\n",
       "      <th>16</th>\n",
       "      <td>opinion_h1n1_risk</td>\n",
       "      <td>866.169464</td>\n",
       "    </tr>\n",
       "    <tr>\n",
       "      <th>9</th>\n",
       "      <td>doctor_recc_h1n1</td>\n",
       "      <td>839.733852</td>\n",
       "    </tr>\n",
       "    <tr>\n",
       "      <th>11</th>\n",
       "      <td>chronic_med_condition</td>\n",
       "      <td>557.625394</td>\n",
       "    </tr>\n",
       "    <tr>\n",
       "      <th>22</th>\n",
       "      <td>household_children</td>\n",
       "      <td>538.442999</td>\n",
       "    </tr>\n",
       "    <tr>\n",
       "      <th>13</th>\n",
       "      <td>health_worker</td>\n",
       "      <td>383.862558</td>\n",
       "    </tr>\n",
       "    <tr>\n",
       "      <th>0</th>\n",
       "      <td>h1n1_concern</td>\n",
       "      <td>325.148276</td>\n",
       "    </tr>\n",
       "    <tr>\n",
       "      <th>15</th>\n",
       "      <td>opinion_h1n1_vacc_effective</td>\n",
       "      <td>286.280388</td>\n",
       "    </tr>\n",
       "    <tr>\n",
       "      <th>29</th>\n",
       "      <td>rent_or_own</td>\n",
       "      <td>215.311327</td>\n",
       "    </tr>\n",
       "    <tr>\n",
       "      <th>8</th>\n",
       "      <td>behavioral_touch_face</td>\n",
       "      <td>123.369866</td>\n",
       "    </tr>\n",
       "    <tr>\n",
       "      <th>1</th>\n",
       "      <td>h1n1_knowledge</td>\n",
       "      <td>115.652237</td>\n",
       "    </tr>\n",
       "  </tbody>\n",
       "</table>\n",
       "</div>"
      ],
      "text/plain": [
       "                       col_name       scores\n",
       "19            opinion_seas_risk  2794.888237\n",
       "10         doctor_recc_seasonal  2421.579654\n",
       "23                    age_group  1997.217625\n",
       "33          employment_industry  1669.849661\n",
       "18  opinion_seas_vacc_effective   991.273021\n",
       "16            opinion_h1n1_risk   866.169464\n",
       "9              doctor_recc_h1n1   839.733852\n",
       "11        chronic_med_condition   557.625394\n",
       "22           household_children   538.442999\n",
       "13                health_worker   383.862558\n",
       "0                  h1n1_concern   325.148276\n",
       "15  opinion_h1n1_vacc_effective   286.280388\n",
       "29                  rent_or_own   215.311327\n",
       "8         behavioral_touch_face   123.369866\n",
       "1                h1n1_knowledge   115.652237"
      ]
     },
     "execution_count": 31,
     "metadata": {},
     "output_type": "execute_result"
    }
   ],
   "source": [
    "X = new_features\n",
    "labels_copy = labels_raw.copy()\n",
    "y = labels_copy['seasonal_vaccine']# Target Variable\n",
    "\n",
    "# Apply select K best to extract best features \n",
    "best_features = SelectKBest(chi2,k=15)\n",
    "fit = best_features.fit(X, y)\n",
    "\n",
    "scores = pd.DataFrame(fit.scores_)\n",
    "x_columns= pd.DataFrame(X.columns)\n",
    "\n",
    "feature_score = pd.concat([x_columns,scores], axis=1)\n",
    "feature_score.columns =['col_name','scores']\n",
    "final_features = feature_score.nlargest(15, 'scores')\n",
    "final_features"
   ]
  },
  {
   "cell_type": "code",
   "execution_count": 32,
   "metadata": {},
   "outputs": [],
   "source": [
    "# Create a new DataFrame with selected columns\n",
    "final_features = new_features[final_features['col_name'].tolist()]"
   ]
  },
  {
   "attachments": {},
   "cell_type": "markdown",
   "metadata": {},
   "source": [
    "### Feature Importance"
   ]
  },
  {
   "cell_type": "code",
   "execution_count": 33,
   "metadata": {},
   "outputs": [
    {
     "data": {
      "text/html": [
       "<style>#sk-container-id-1 {color: black;background-color: white;}#sk-container-id-1 pre{padding: 0;}#sk-container-id-1 div.sk-toggleable {background-color: white;}#sk-container-id-1 label.sk-toggleable__label {cursor: pointer;display: block;width: 100%;margin-bottom: 0;padding: 0.3em;box-sizing: border-box;text-align: center;}#sk-container-id-1 label.sk-toggleable__label-arrow:before {content: \"▸\";float: left;margin-right: 0.25em;color: #696969;}#sk-container-id-1 label.sk-toggleable__label-arrow:hover:before {color: black;}#sk-container-id-1 div.sk-estimator:hover label.sk-toggleable__label-arrow:before {color: black;}#sk-container-id-1 div.sk-toggleable__content {max-height: 0;max-width: 0;overflow: hidden;text-align: left;background-color: #f0f8ff;}#sk-container-id-1 div.sk-toggleable__content pre {margin: 0.2em;color: black;border-radius: 0.25em;background-color: #f0f8ff;}#sk-container-id-1 input.sk-toggleable__control:checked~div.sk-toggleable__content {max-height: 200px;max-width: 100%;overflow: auto;}#sk-container-id-1 input.sk-toggleable__control:checked~label.sk-toggleable__label-arrow:before {content: \"▾\";}#sk-container-id-1 div.sk-estimator input.sk-toggleable__control:checked~label.sk-toggleable__label {background-color: #d4ebff;}#sk-container-id-1 div.sk-label input.sk-toggleable__control:checked~label.sk-toggleable__label {background-color: #d4ebff;}#sk-container-id-1 input.sk-hidden--visually {border: 0;clip: rect(1px 1px 1px 1px);clip: rect(1px, 1px, 1px, 1px);height: 1px;margin: -1px;overflow: hidden;padding: 0;position: absolute;width: 1px;}#sk-container-id-1 div.sk-estimator {font-family: monospace;background-color: #f0f8ff;border: 1px dotted black;border-radius: 0.25em;box-sizing: border-box;margin-bottom: 0.5em;}#sk-container-id-1 div.sk-estimator:hover {background-color: #d4ebff;}#sk-container-id-1 div.sk-parallel-item::after {content: \"\";width: 100%;border-bottom: 1px solid gray;flex-grow: 1;}#sk-container-id-1 div.sk-label:hover label.sk-toggleable__label {background-color: #d4ebff;}#sk-container-id-1 div.sk-serial::before {content: \"\";position: absolute;border-left: 1px solid gray;box-sizing: border-box;top: 0;bottom: 0;left: 50%;z-index: 0;}#sk-container-id-1 div.sk-serial {display: flex;flex-direction: column;align-items: center;background-color: white;padding-right: 0.2em;padding-left: 0.2em;position: relative;}#sk-container-id-1 div.sk-item {position: relative;z-index: 1;}#sk-container-id-1 div.sk-parallel {display: flex;align-items: stretch;justify-content: center;background-color: white;position: relative;}#sk-container-id-1 div.sk-item::before, #sk-container-id-1 div.sk-parallel-item::before {content: \"\";position: absolute;border-left: 1px solid gray;box-sizing: border-box;top: 0;bottom: 0;left: 50%;z-index: -1;}#sk-container-id-1 div.sk-parallel-item {display: flex;flex-direction: column;z-index: 1;position: relative;background-color: white;}#sk-container-id-1 div.sk-parallel-item:first-child::after {align-self: flex-end;width: 50%;}#sk-container-id-1 div.sk-parallel-item:last-child::after {align-self: flex-start;width: 50%;}#sk-container-id-1 div.sk-parallel-item:only-child::after {width: 0;}#sk-container-id-1 div.sk-dashed-wrapped {border: 1px dashed gray;margin: 0 0.4em 0.5em 0.4em;box-sizing: border-box;padding-bottom: 0.4em;background-color: white;}#sk-container-id-1 div.sk-label label {font-family: monospace;font-weight: bold;display: inline-block;line-height: 1.2em;}#sk-container-id-1 div.sk-label-container {text-align: center;}#sk-container-id-1 div.sk-container {/* jupyter's `normalize.less` sets `[hidden] { display: none; }` but bootstrap.min.css set `[hidden] { display: none !important; }` so we also need the `!important` here to be able to override the default hidden behavior on the sphinx rendered scikit-learn.org. See: https://github.com/scikit-learn/scikit-learn/issues/21755 */display: inline-block !important;position: relative;}#sk-container-id-1 div.sk-text-repr-fallback {display: none;}</style><div id=\"sk-container-id-1\" class=\"sk-top-container\"><div class=\"sk-text-repr-fallback\"><pre>ExtraTreesClassifier()</pre><b>In a Jupyter environment, please rerun this cell to show the HTML representation or trust the notebook. <br />On GitHub, the HTML representation is unable to render, please try loading this page with nbviewer.org.</b></div><div class=\"sk-container\" hidden><div class=\"sk-item\"><div class=\"sk-estimator sk-toggleable\"><input class=\"sk-toggleable__control sk-hidden--visually\" id=\"sk-estimator-id-1\" type=\"checkbox\" checked><label for=\"sk-estimator-id-1\" class=\"sk-toggleable__label sk-toggleable__label-arrow\">ExtraTreesClassifier</label><div class=\"sk-toggleable__content\"><pre>ExtraTreesClassifier()</pre></div></div></div></div></div>"
      ],
      "text/plain": [
       "ExtraTreesClassifier()"
      ]
     },
     "execution_count": 33,
     "metadata": {},
     "output_type": "execute_result"
    }
   ],
   "source": [
    "model = ExtraTreesClassifier()\n",
    "model.fit(new_features, labels_raw['seasonal_vaccine'])"
   ]
  },
  {
   "cell_type": "code",
   "execution_count": 34,
   "metadata": {},
   "outputs": [
    {
     "data": {
      "image/png": "[encoded data removed]",
      "text/plain": [
       "<Figure size 432x288 with 1 Axes>"
      ]
     },
     "metadata": {},
     "output_type": "display_data"
    }
   ],
   "source": [
    "# feature importance graph\n",
    "feature_importance = pd.Series(model.feature_importances_, index=new_features.columns)\n",
    "feature_importance.nlargest(15).plot(kind='barh')\n",
    "plt.show()"
   ]
  },
  {
   "attachments": {},
   "cell_type": "markdown",
   "metadata": {},
   "source": [
    "## Modelling"
   ]
  },
  {
   "attachments": {},
   "cell_type": "markdown",
   "metadata": {},
   "source": [
    "### Baseline Model"
   ]
  },
  {
   "attachments": {},
   "cell_type": "markdown",
   "metadata": {},
   "source": [
    "- Logistic Regression"
   ]
  },
  {
   "cell_type": "code",
   "execution_count": 35,
   "metadata": {},
   "outputs": [],
   "source": [
    "# first, split the data into train and test feature\n",
    "X = final_features # using selected features\n",
    "y = labels_raw['seasonal_vaccine']\n",
    "X_train, X_test, y_train, y_test = train_test_split(X, y, random_state=0, stratify= y) "
   ]
  },
  {
   "cell_type": "code",
   "execution_count": 54,
   "metadata": {},
   "outputs": [],
   "source": [
    "# defining function that fits a model and returns accuracy\n",
    "def fit_evaluate_model(model,X_train,y_train,X_test,y_test):\n",
    "    \n",
    "    # fitting the model\n",
    "    model.fit(X_train,y_train)\n",
    "\n",
    "    # generating predictions for train and test data\n",
    "    y_train_pred = model.predict(X_train)\n",
    "    y_test_pred = model.predict(X_test)\n",
    "\n",
    "    #performing cross validation\n",
    "    cross_val = cross_val_score(model,X_train,y_train,cv = cv)\n",
    "\n",
    "    #printing accuracy\n",
    "    print(f\"Train Accuracy: {round(accuracy_score(y_train,y_train_pred)*100,3)}%\")\n",
    "    print(f\"Test Accuracy: {round(accuracy_score(y_test,y_test_pred)*100,3)}%\")\n",
    "    print(f\"Cross Validation Accuracy: {round(cross_val.mean()*100,3)}%\")\n",
    "    print('================================================================')\n",
    "    \n",
    "    # printing the report\n",
    "    print(classification_report(y_test, y_test_pred))\n",
    "    print('================================================================')\n",
    "    \n",
    "    # confusion matrix\n",
    "    cm = confusion_matrix(y_test,y_test_pred)\n",
    "    ax = sns.heatmap(cm,annot=True, fmt= 'd')\n",
    "    # add labels\n",
    "    ax.set_xlabel('Predicted')\n",
    "    ax.set_ylabel('True')"
   ]
  },
  {
   "cell_type": "code",
   "execution_count": 37,
   "metadata": {},
   "outputs": [
    {
     "name": "stdout",
     "output_type": "stream",
     "text": [
      "Train Accuracy: 76.685%\n",
      "Test Accuracy: 76.921%\n",
      "Cross Validation Accuracy: 76.61%\n",
      "================================================================\n",
      "              precision    recall  f1-score   support\n",
      "\n",
      "           0       0.77      0.81      0.79      3568\n",
      "           1       0.77      0.72      0.74      3109\n",
      "\n",
      "    accuracy                           0.77      6677\n",
      "   macro avg       0.77      0.77      0.77      6677\n",
      "weighted avg       0.77      0.77      0.77      6677\n",
      "\n",
      "================================================================\n"
     ]
    },
    {
     "data": {
      "image/png": "[encoded data removed]",
      "text/plain": [
       "<Figure size 432x288 with 2 Axes>"
      ]
     },
     "metadata": {},
     "output_type": "display_data"
    }
   ],
   "source": [
    "# instantiate LogisticRegression Class\n",
    "lr = LogisticRegression(random_state=0)\n",
    "\n",
    "# evaluate the model\n",
    "fit_evaluate_model(lr, X_train,y_train,X_test,y_test)"
   ]
  },
  {
   "attachments": {},
   "cell_type": "markdown",
   "metadata": {},
   "source": [
    "The model exhibits **consistent performance on both the training (around `76.7%` accuracy) and test datasets(around `76.9%` accuracy)**, with the test accuracy closely matching the training accuracy, indicating that the model is *generalizing well and not suffering from significant overfitting.*\n",
    "\n",
    "Furthermore, cross-validation accuracy further supports the model's overall performance, **consistently yielding an accuracy** of approximately `76.7%` across different subsets of the data. This indicates that the model's predictive ability is reliable and stable across various partitions of the dataset, reinforcing its effectiveness in making accurate predictions."
   ]
  },
  {
   "attachments": {},
   "cell_type": "markdown",
   "metadata": {},
   "source": [
    "However, in order to further improve the model's accuracy performance, we will continue to train and evaluate additional models."
   ]
  },
  {
   "attachments": {},
   "cell_type": "markdown",
   "metadata": {},
   "source": [
    "### Decision Trees Model"
   ]
  },
  {
   "cell_type": "code",
   "execution_count": 38,
   "metadata": {},
   "outputs": [
    {
     "name": "stdout",
     "output_type": "stream",
     "text": [
      "Train Accuracy: 80.749%\n",
      "Test Accuracy: 75.243%\n",
      "Cross Validation Accuracy: 75.422%\n",
      "================================================================\n",
      "              precision    recall  f1-score   support\n",
      "\n",
      "           0       0.76      0.78      0.77      3568\n",
      "           1       0.74      0.72      0.73      3109\n",
      "\n",
      "    accuracy                           0.75      6677\n",
      "   macro avg       0.75      0.75      0.75      6677\n",
      "weighted avg       0.75      0.75      0.75      6677\n",
      "\n",
      "================================================================\n"
     ]
    },
    {
     "data": {
      "image/png": "[encoded data removed]",
      "text/plain": [
       "<Figure size 432x288 with 2 Axes>"
      ]
     },
     "metadata": {},
     "output_type": "display_data"
    }
   ],
   "source": [
    "# instantiate a model using default parameters\n",
    "dt = DecisionTreeClassifier(max_depth=10)\n",
    "\n",
    "# fit and evaluate the model\n",
    "fit_evaluate_model(dt, X_train,y_train,X_test,y_test)"
   ]
  },
  {
   "cell_type": "code",
   "execution_count": 59,
   "metadata": {},
   "outputs": [
    {
     "name": "stdout",
     "output_type": "stream",
     "text": [
      "Train Accuracy: 77.014%\n",
      "Test Accuracy: 76.741%\n",
      "Cross Validation Accuracy: 75.172%\n",
      "================================================================\n",
      "              precision    recall  f1-score   support\n",
      "\n",
      "           0       0.78      0.79      0.78      3568\n",
      "           1       0.75      0.75      0.75      3109\n",
      "\n",
      "    accuracy                           0.77      6677\n",
      "   macro avg       0.77      0.77      0.77      6677\n",
      "weighted avg       0.77      0.77      0.77      6677\n",
      "\n",
      "================================================================\n",
      "Tuned Decision Tree Parameters: {'tree__criterion': 'entropy', 'tree__max_depth': 8, 'tree__max_features': 6, 'tree__min_samples_leaf': 5, 'tree__min_samples_split': 2}\n"
     ]
    },
    {
     "data": {
      "image/png": "[encoded data removed]",
      "text/plain": [
       "<Figure size 432x288 with 2 Axes>"
      ]
     },
     "metadata": {},
     "output_type": "display_data"
    }
   ],
   "source": [
    "# adding parameters\n",
    "# setting up a pipeline\n",
    "pipeline_dt = Pipeline([('scaler' , StandardScaler()),\n",
    "                        ('tree', DecisionTreeClassifier())])\n",
    "\n",
    "# iterate in search of right parameters. \n",
    "param_dist = {\"tree__max_depth\": [5,6,7,8],\n",
    "              \"tree__max_features\": [1,2,3,4,5,6], \n",
    "              \"tree__min_samples_leaf\": [5,6,7],\n",
    "              \"tree__criterion\": [\"gini\", \"entropy\"],\n",
    "              'tree__min_samples_split': [2,10]}\n",
    "\n",
    "cv = 5 # specify cross validation folds\n",
    "# gridsearch\n",
    "tree_cv = GridSearchCV(estimator=pipeline_dt,\n",
    "                       param_grid=param_dist,\n",
    "                       cv=cv, \n",
    "                       scoring='accuracy')\n",
    "\n",
    "# Fit it to the data\n",
    "fit_evaluate_model(tree_cv, X_train,y_train,X_test,y_test)\n",
    "# Print the tuned parameters\n",
    "print(\"Tuned Decision Tree Parameters: {}\".format(tree_cv.best_params_))"
   ]
  },
  {
   "cell_type": "code",
   "execution_count": 74,
   "metadata": {},
   "outputs": [
    {
     "name": "stdout",
     "output_type": "stream",
     "text": [
      "Train Accuracy: 76.935%\n",
      "Test Accuracy: 75.857%\n",
      "Cross Validation Accuracy: 75.686%\n",
      "================================================================\n",
      "              precision    recall  f1-score   support\n",
      "\n",
      "           0       0.75      0.82      0.78      3568\n",
      "           1       0.77      0.69      0.73      3109\n",
      "\n",
      "    accuracy                           0.76      6677\n",
      "   macro avg       0.76      0.75      0.76      6677\n",
      "weighted avg       0.76      0.76      0.76      6677\n",
      "\n",
      "================================================================\n"
     ]
    },
    {
     "data": {
      "image/png": "[encoded data removed]",
      "text/plain": [
       "<Figure size 432x288 with 2 Axes>"
      ]
     },
     "metadata": {},
     "output_type": "display_data"
    }
   ],
   "source": [
    "# use the tuned parameters from decision tree model\n",
    "grid1 = [{\"tree__max_depth\": [8],\n",
    "           \"tree__max_features\": [6],\n",
    "           \"tree__min_samples_leaf\": [5],\n",
    "           \"tree__criterion\": [\"entropy\"],\n",
    "           'tree__min_samples_split': [2]}]\n",
    "\n",
    "cv = 5\n",
    "dt2 = GridSearchCV(estimator=pipeline_dt,\n",
    "                   param_grid=grid1,\n",
    "                   cv=cv, \n",
    "                   scoring='accuracy')\n",
    "#fit and evaluate the new model\n",
    "fit_evaluate_model(dt2, X_train,y_train,X_test,y_test)"
   ]
  },
  {
   "attachments": {},
   "cell_type": "markdown",
   "metadata": {},
   "source": [
    "From the output, we can draw the following conclusions after modeling a Decision Tree Classification model:\n",
    "\n",
    "- Accuracy: The model demonstrates a *relatively good performance* with a train accuracy of `76.935%` and a test accuracy of `75.857%`. This indicates that the model is able to generalize well to unseen data, as the test accuracy is close to the train accuracy.\n",
    "\n",
    "- Precision and Recall: The precision and recall values for both classes (0 and 1) are reasonably balanced, indicating that the model performs well in correctly identifying both individuals who have not received the flu shot (class 0) and those who have been vaccinated (class 1).\n",
    "  \n",
    "- F1-score: The F1-scores for both classes are relatively high, with values of `0.78` for class 0 and `0.73` for class 1. This indicates a good balance between precision and recall for each class, reflecting the model's ability to provide accurate predictions for both categories."
   ]
  },
  {
   "cell_type": "markdown",
   "metadata": {},
   "source": [
    "### Random Forest"
   ]
  },
  {
   "cell_type": "code",
   "execution_count": 43,
   "metadata": {},
   "outputs": [
    {
     "name": "stdout",
     "output_type": "stream",
     "text": [
      "Train Accuracy: 97.174%\n",
      "Test Accuracy: 75.393%\n",
      "Cross Validation Accuracy: 74.958%\n",
      "================================================================\n",
      "              precision    recall  f1-score   support\n",
      "\n",
      "           0       0.76      0.78      0.77      3568\n",
      "           1       0.74      0.72      0.73      3109\n",
      "\n",
      "    accuracy                           0.75      6677\n",
      "   macro avg       0.75      0.75      0.75      6677\n",
      "weighted avg       0.75      0.75      0.75      6677\n",
      "\n",
      "================================================================\n"
     ]
    },
    {
     "data": {
      "image/png": "[encoded data removed]",
      "text/plain": [
       "<Figure size 432x288 with 2 Axes>"
      ]
     },
     "metadata": {},
     "output_type": "display_data"
    }
   ],
   "source": [
    "rf=RandomForestClassifier()  ## instantiate basic model creation with default parameters\n",
    "# fit and evaluate the model \n",
    "fit_evaluate_model(rf, X_train,y_train,X_test,y_test) # generates an overfitting model, proceed to specify parameters"
   ]
  },
  {
   "cell_type": "code",
   "execution_count": 62,
   "metadata": {},
   "outputs": [
    {
     "name": "stdout",
     "output_type": "stream",
     "text": [
      "Train Accuracy: 77.209%\n",
      "Test Accuracy: 76.981%\n",
      "Cross Validation Accuracy: 76.61%\n",
      "================================================================\n",
      "              precision    recall  f1-score   support\n",
      "\n",
      "           0       0.77      0.80      0.79      3568\n",
      "           1       0.76      0.73      0.75      3109\n",
      "\n",
      "    accuracy                           0.77      6677\n",
      "   macro avg       0.77      0.77      0.77      6677\n",
      "weighted avg       0.77      0.77      0.77      6677\n",
      "\n",
      "================================================================\n",
      "Tuned Decision Tree Parameters: {'tree2__criterion': 'gini', 'tree2__max_depth': 6, 'tree2__min_samples_leaf': 4, 'tree2__n_estimators': 30}\n"
     ]
    },
    {
     "data": {
      "image/png": "[encoded data removed]",
      "text/plain": [
       "<Figure size 432x288 with 2 Axes>"
      ]
     },
     "metadata": {},
     "output_type": "display_data"
    }
   ],
   "source": [
    "# initialize pipeline class\n",
    "pipeline_rf = Pipeline([('scaler' , StandardScaler()),\n",
    "                        ('tree2', RandomForestClassifier())])\n",
    "\n",
    "# parameters to iterate over\n",
    "param_dist2 = {\"tree2__max_depth\": [2,3,4,5,6],\n",
    "              \"tree2__min_samples_leaf\": [1,2,4,6],\n",
    "              'tree2__n_estimators' : [10,30,50],\n",
    "              'tree2__criterion': ['gini', 'entropy']\n",
    "               }\n",
    "cv = 5\n",
    "rf_cv = GridSearchCV(estimator=pipeline_rf,\n",
    "                     param_grid = param_dist2, \n",
    "                     cv = cv, \n",
    "                     scoring='accuracy')\n",
    "\n",
    "# Fit it to the data\n",
    "fit_evaluate_model(rf_cv, X_train,y_train,X_test,y_test)\n",
    "# Print the tuned parameters\n",
    "print(\"Tuned Decision Tree Parameters: {}\".format(rf_cv.best_params_))"
   ]
  },
  {
   "cell_type": "code",
   "execution_count": 64,
   "metadata": {},
   "outputs": [
    {
     "name": "stdout",
     "output_type": "stream",
     "text": [
      "Train Accuracy: 77.429%\n",
      "Test Accuracy: 76.591%\n",
      "Cross Validation Accuracy: 76.585%\n",
      "================================================================\n",
      "              precision    recall  f1-score   support\n",
      "\n",
      "           0       0.77      0.80      0.79      3568\n",
      "           1       0.76      0.72      0.74      3109\n",
      "\n",
      "    accuracy                           0.77      6677\n",
      "   macro avg       0.77      0.76      0.76      6677\n",
      "weighted avg       0.77      0.77      0.77      6677\n",
      "\n",
      "================================================================\n"
     ]
    },
    {
     "data": {
      "image/png": "[encoded data removed]",
      "text/plain": [
       "<Figure size 432x288 with 2 Axes>"
      ]
     },
     "metadata": {},
     "output_type": "display_data"
    }
   ],
   "source": [
    "# Using the tuned random forest parameters\n",
    "# setting the best parameters\n",
    "grid2 = [{'tree2__criterion': ['gini'],\n",
    "         'tree2__max_depth': [6],\n",
    "         'tree2__min_samples_leaf': [4],\n",
    "         'tree2__n_estimators': [30]}]\n",
    "cv=5\n",
    "rf2 = GridSearchCV(estimator=pipeline_rf,\n",
    "                   param_grid=grid2, \n",
    "                   cv = cv, \n",
    "                   scoring='accuracy')\n",
    "                    \n",
    "# fit and evaluate the model\n",
    "fit_evaluate_model(rf2, X_train,y_train,X_test,y_test)"
   ]
  },
  {
   "attachments": {},
   "cell_type": "markdown",
   "metadata": {},
   "source": [
    "After fitting a Random Forest classifier to the data, we observed the following performance metrics:\n",
    "\n",
    "The model achieved a training accuracy of `77.429%` and a test accuracy of the model was `76.591%`, suggesting that the model's performance on unseen data is relatively consistent with its performance on the training set.\n",
    "Cross-validation accuracy, obtained by evaluating the model on different subsets of the data, was `76.585%`. This indicates that the model's performance is stable and consistent across various data partitions.\n",
    "\n",
    "Based on the precision, recall, and F1-score metrics, we can conclude that the **model performs reasonably well in classifying both vaccinated and not vaccinated individuals**. The Random Forest classifier shows promise in accurately predicting the likelihood of individuals receiving the seasonal flu shot. However, further analysis and model refinement may be necessary to improve the model's performance and address any potential biases or limitations in the data."
   ]
  },
  {
   "attachments": {},
   "cell_type": "markdown",
   "metadata": {},
   "source": [
    "### Gradient Boosting"
   ]
  },
  {
   "cell_type": "code",
   "execution_count": 65,
   "metadata": {},
   "outputs": [
    {
     "name": "stdout",
     "output_type": "stream",
     "text": [
      "Train Accuracy: 77.968%\n",
      "Test Accuracy: 77.385%\n",
      "Cross Validation Accuracy: 77.389%\n",
      "================================================================\n",
      "              precision    recall  f1-score   support\n",
      "\n",
      "           0       0.78      0.80      0.79      3568\n",
      "           1       0.77      0.74      0.75      3109\n",
      "\n",
      "    accuracy                           0.77      6677\n",
      "   macro avg       0.77      0.77      0.77      6677\n",
      "weighted avg       0.77      0.77      0.77      6677\n",
      "\n",
      "================================================================\n"
     ]
    },
    {
     "data": {
      "image/png": "[encoded data removed]",
      "text/plain": [
       "<Figure size 432x288 with 2 Axes>"
      ]
     },
     "metadata": {},
     "output_type": "display_data"
    }
   ],
   "source": [
    "gb = GradientBoostingClassifier() # initialise GradientBoostingClassifier with default parameters\n",
    "# fit and evaluate the model\n",
    "fit_evaluate_model(gb, X_train,y_train,X_test,y_test)"
   ]
  },
  {
   "cell_type": "code",
   "execution_count": 86,
   "metadata": {},
   "outputs": [
    {
     "name": "stdout",
     "output_type": "stream",
     "text": [
      "Train Accuracy: 78.198%\n",
      "Test Accuracy: 77.55%\n",
      "Cross Validation Accuracy: 77.239%\n",
      "================================================================\n",
      "              precision    recall  f1-score   support\n",
      "\n",
      "           0       0.79      0.80      0.79      3568\n",
      "           1       0.76      0.75      0.76      3109\n",
      "\n",
      "    accuracy                           0.78      6677\n",
      "   macro avg       0.77      0.77      0.77      6677\n",
      "weighted avg       0.78      0.78      0.78      6677\n",
      "\n",
      "================================================================\n",
      "Tuned Decision Tree Parameters: {'gradient__learning_rate': 0.3, 'gradient__loss': 'log_loss', 'gradient__n_estimators': 40}\n"
     ]
    },
    {
     "data": {
      "image/png": "[encoded data removed]",
      "text/plain": [
       "<Figure size 432x288 with 2 Axes>"
      ]
     },
     "metadata": {},
     "output_type": "display_data"
    }
   ],
   "source": [
    "# initializing the pipeline\n",
    "pipeline_gb = Pipeline([('scaler' , StandardScaler()),\n",
    "                        ('gradient', GradientBoostingClassifier())])\n",
    "\n",
    "# setting parameter\n",
    "grid3 = [{'gradient__loss' : ['log_loss','deviance'],\n",
    "         'gradient__learning_rate': [0.1,0.2,0.3],\n",
    "         'gradient__n_estimators': [len(range(80,120))]}]\n",
    "\n",
    "cv = 6\n",
    "gb_cv = GridSearchCV(estimator=pipeline_gb, \n",
    "                     param_grid= grid3,\n",
    "                     scoring='accuracy', \n",
    "                     cv=cv,\n",
    "                     verbose= False)\n",
    "\n",
    "\n",
    "# Fit it to the data\n",
    "fit_evaluate_model(gb_cv, X_train,y_train,X_test,y_test)\n",
    "# Print the tuned parameters\n",
    "print(\"Tuned Decision Tree Parameters: {}\".format(gb_cv.best_params_))"
   ]
  },
  {
   "cell_type": "code",
   "execution_count": 89,
   "metadata": {},
   "outputs": [
    {
     "name": "stdout",
     "output_type": "stream",
     "text": [
      "Train Accuracy: 78.198%\n",
      "Test Accuracy: 77.55%\n",
      "Cross Validation Accuracy: 77.324%\n",
      "================================================================\n",
      "              precision    recall  f1-score   support\n",
      "\n",
      "           0       0.79      0.80      0.79      3568\n",
      "           1       0.76      0.75      0.76      3109\n",
      "\n",
      "    accuracy                           0.78      6677\n",
      "   macro avg       0.77      0.77      0.77      6677\n",
      "weighted avg       0.78      0.78      0.78      6677\n",
      "\n",
      "================================================================\n"
     ]
    },
    {
     "data": {
      "image/png": "[encoded data removed]",
      "text/plain": [
       "<Figure size 432x288 with 2 Axes>"
      ]
     },
     "metadata": {},
     "output_type": "display_data"
    }
   ],
   "source": [
    "# setting up best parameters\n",
    "grid3 = [{'gradient__loss' : ['log_loss'],\n",
    "         'gradient__learning_rate': [0.3],\n",
    "         'gradient__n_estimators': [40]}]\n",
    "\n",
    "cv = 6\n",
    "gb2 = GridSearchCV(estimator=pipeline_gb,\n",
    "                   param_grid=grid3, \n",
    "                   cv = cv, \n",
    "                   scoring='accuracy')\n",
    "                    \n",
    "# fit and evaluate the model\n",
    "fit_evaluate_model(gb2, X_train,y_train,X_test,y_test)"
   ]
  },
  {
   "attachments": {},
   "cell_type": "markdown",
   "metadata": {},
   "source": [
    "After fitting a Gradient Boosting classifier to the data, we obtained the following performance metrics:\n",
    "\n",
    "- The model achieved a training accuracy of about `78.2%` and a test accuracy of about `77.6%`, suggesting that it performed consistently on unseen data.\n",
    "- Cross-validation accuracy, obtained by evaluating the model on different subsets of the data, was `77.324%`. This indicates that the model's performance is stable across different data partitions.\n",
    "- Analyzing the precision, recall, and F1-score metrics, we can conclude that the model shows a reasonable performance in classifying both vaccinated and not vaccinated individuals.\n",
    "\n",
    "Overall, the Gradient Boosting classifier demonstrates a slight improvement on the performance compared to the Random Forest classifier, with improved accuracy and precision. It provides an alternative approach to predicting the likelihood of individuals receiving the seasonal flu shot."
   ]
  },
  {
   "attachments": {},
   "cell_type": "markdown",
   "metadata": {},
   "source": [
    "### XGBoost"
   ]
  },
  {
   "cell_type": "code",
   "execution_count": 70,
   "metadata": {},
   "outputs": [
    {
     "name": "stdout",
     "output_type": "stream",
     "text": [
      "Train Accuracy: 76.595%\n",
      "Test Accuracy: 76.801%\n",
      "Cross Validation Accuracy: 76.076%\n",
      "================================================================\n",
      "              precision    recall  f1-score   support\n",
      "\n",
      "           0       0.78      0.79      0.78      3568\n",
      "           1       0.75      0.75      0.75      3109\n",
      "\n",
      "    accuracy                           0.77      6677\n",
      "   macro avg       0.77      0.77      0.77      6677\n",
      "weighted avg       0.77      0.77      0.77      6677\n",
      "\n",
      "================================================================\n",
      "Tuned Decision Tree Parameters: {'xgb__booster': 'gbtree', 'xgb__eta': 0.1, 'xgb__gamma': 50, 'xgb__learning_rate': 0.1, 'xgb__max_depth': 5, 'xgb__subsample': 0.3}\n"
     ]
    },
    {
     "data": {
      "image/png": "[encoded data removed]",
      "text/plain": [
       "<Figure size 432x288 with 2 Axes>"
      ]
     },
     "metadata": {},
     "output_type": "display_data"
    }
   ],
   "source": [
    "# setting pipeline\n",
    "pipeline_xgb = Pipeline([('scaler', StandardScaler()),\n",
    "                             ('xgb', XGBClassifier())])\n",
    "\n",
    "# Setting up the parameter grid for a grid search:\n",
    "grid4 = [{'xgb__eta': [0.1, 0.2, 0.3],\n",
    "         'xgb__max_depth': [5],\n",
    "         'xgb__gamma': [49, 50],\n",
    "         'xgb__learning_rate': [0.1, 0.2],\n",
    "         'xgb__subsample': [0.1, 0.2, 0.3],\n",
    "         'xgb__booster': ['gbtree']}]\n",
    "\n",
    "# Performing grid search cross-validation:\n",
    "cv=6\n",
    "xgb_cv = GridSearchCV(estimator=pipeline_xgb,\n",
    "                      param_grid=grid4,\n",
    "                      scoring='accuracy',\n",
    "                      cv=cv,\n",
    "                      verbose=False )\n",
    "\n",
    "# Fit it to the data\n",
    "xgb_cv.fit(X_train, y_train)\n",
    "\n",
    "# Print the tuned parameters\n",
    "fit_evaluate_model(xgb_cv, X_train,y_train,X_test,y_test)\n",
    "print(\"Tuned Decision Tree Parameters: {}\".format(xgb_cv.best_params_))"
   ]
  },
  {
   "cell_type": "code",
   "execution_count": 75,
   "metadata": {},
   "outputs": [
    {
     "name": "stdout",
     "output_type": "stream",
     "text": [
      "Train Accuracy: 76.595%\n",
      "Test Accuracy: 76.801%\n",
      "Cross Validation Accuracy: 76.226%\n",
      "================================================================\n",
      "              precision    recall  f1-score   support\n",
      "\n",
      "           0       0.78      0.79      0.78      3568\n",
      "           1       0.75      0.75      0.75      3109\n",
      "\n",
      "    accuracy                           0.77      6677\n",
      "   macro avg       0.77      0.77      0.77      6677\n",
      "weighted avg       0.77      0.77      0.77      6677\n",
      "\n",
      "================================================================\n"
     ]
    },
    {
     "data": {
      "image/png": "[encoded data removed]",
      "text/plain": [
       "<Figure size 432x288 with 2 Axes>"
      ]
     },
     "metadata": {},
     "output_type": "display_data"
    }
   ],
   "source": [
    "# setting up the parameters\n",
    "grid4 = [{'xgb__eta': [0.1],\n",
    "         'xgb__max_depth': [5],\n",
    "         'xgb__gamma': [50],\n",
    "         'xgb__learning_rate': [0.1],\n",
    "         'xgb__subsample': [0.3],\n",
    "         'xgb__booster': ['gbtree']}]\n",
    "\n",
    "cv = 6\n",
    "xgb = GridSearchCV(estimator=pipeline_xgb,\n",
    "                   param_grid=grid4, \n",
    "                   cv = cv, \n",
    "                   scoring='accuracy')\n",
    "                    \n",
    "# fit and evaluate the model\n",
    "fit_evaluate_model(xgb, X_train,y_train,X_test,y_test)"
   ]
  },
  {
   "attachments": {},
   "cell_type": "markdown",
   "metadata": {},
   "source": [
    "Based on the output and evaluation metrics of your XGBoost model, we can draw the following conclusions:\n",
    "\n",
    "- Accuracy: The model achieves an accuracy of approximately 76.8% on the test set, which means it correctly predicts the class labels for about 76.8% of the instances. This indicates that the model has a reasonable level of predictive power.\n",
    "\n",
    "- Precision and Recall: The precision measures how many of the predicted positive instances are actually positive, while recall measures how many of the actual positive instances are correctly identified. For both classes (0 and 1), the model achieves precision scores around 0.78 and recall scores around 0.79, indicating a balanced performance in correctly identifying both positive and negative instances.\n",
    "\n",
    "- F1-Score: The F1-score combines precision and recall into a single metric and provides an overall measure of model performance. With F1-scores of approximately 0.78 for class 0 and 0.75 for class 1, the model achie"
   ]
  },
  {
   "attachments": {},
   "cell_type": "markdown",
   "metadata": {},
   "source": [
    "## Evaluation"
   ]
  },
  {
   "cell_type": "code",
   "execution_count": 100,
   "metadata": {},
   "outputs": [
    {
     "data": {
      "image/png": "[encoded data removed]",
      "text/plain": [
       "<Figure size 1080x360 with 2 Axes>"
      ]
     },
     "metadata": {},
     "output_type": "display_data"
    }
   ],
   "source": [
    "Accuracy_Score = [76.921, 75.857, 76.591, 77.324, 76.801]\n",
    "Crossval_Score = [76.61, 75.686,76.585, 77.324, 76.226]\n",
    "Models = [ 'Logistic Regression', 'Decision Trees','Random Forest', 'Gradient Boosting', 'XGBoost']\n",
    "\n",
    "fig, ax = plt.subplots(ncols=2, figsize=(15, 5))\n",
    "sns.barplot(x=Accuracy_Score, y=Models, ax=ax[0])\n",
    "sns.barplot(x=Crossval_Score, y=Models, ax=ax[1])\n",
    "ax[0].set_xlabel('Accuracy Score')\n",
    "ax[1].set_xlabel('Cross Validation Score')\n",
    "plt.show()"
   ]
  },
  {
   "cell_type": "code",
   "execution_count": 96,
   "metadata": {},
   "outputs": [
    {
     "data": {
      "text/html": [
       "<div>\n",
       "<style scoped>\n",
       "    .dataframe tbody tr th:only-of-type {\n",
       "        vertical-align: middle;\n",
       "    }\n",
       "\n",
       "    .dataframe tbody tr th {\n",
       "        vertical-align: top;\n",
       "    }\n",
       "\n",
       "    .dataframe thead th {\n",
       "        text-align: right;\n",
       "    }\n",
       "</style>\n",
       "<table border=\"1\" class=\"dataframe\">\n",
       "  <thead>\n",
       "    <tr style=\"text-align: right;\">\n",
       "      <th></th>\n",
       "      <th>model_</th>\n",
       "      <th>train_accuracy</th>\n",
       "      <th>test_accuracy</th>\n",
       "      <th>cross_validation_accuracy</th>\n",
       "    </tr>\n",
       "  </thead>\n",
       "  <tbody>\n",
       "    <tr>\n",
       "      <th>0</th>\n",
       "      <td>Logistic_Regression</td>\n",
       "      <td>76.69</td>\n",
       "      <td>76.92</td>\n",
       "      <td>76.61</td>\n",
       "    </tr>\n",
       "    <tr>\n",
       "      <th>1</th>\n",
       "      <td>Decision_Tree</td>\n",
       "      <td>76.94</td>\n",
       "      <td>75.86</td>\n",
       "      <td>75.69</td>\n",
       "    </tr>\n",
       "    <tr>\n",
       "      <th>2</th>\n",
       "      <td>Random_Forest</td>\n",
       "      <td>77.43</td>\n",
       "      <td>76.6</td>\n",
       "      <td>76.59</td>\n",
       "    </tr>\n",
       "    <tr>\n",
       "      <th>3</th>\n",
       "      <td>Gradient_Boosting</td>\n",
       "      <td>78.2</td>\n",
       "      <td>77.55</td>\n",
       "      <td>77.32</td>\n",
       "    </tr>\n",
       "    <tr>\n",
       "      <th>4</th>\n",
       "      <td>XGBoost</td>\n",
       "      <td>76.6</td>\n",
       "      <td>76.8</td>\n",
       "      <td>76.23</td>\n",
       "    </tr>\n",
       "  </tbody>\n",
       "</table>\n",
       "</div>"
      ],
      "text/plain": [
       "                model_ train_accuracy test_accuracy cross_validation_accuracy\n",
       "0  Logistic_Regression          76.69         76.92                     76.61\n",
       "1        Decision_Tree          76.94         75.86                     75.69\n",
       "2        Random_Forest          77.43          76.6                     76.59\n",
       "3    Gradient_Boosting           78.2         77.55                     77.32\n",
       "4              XGBoost           76.6          76.8                     76.23"
      ]
     },
     "execution_count": 96,
     "metadata": {},
     "output_type": "execute_result"
    }
   ],
   "source": [
    "# Define the data and columns\n",
    "scores = pd.DataFrame(np.array([\n",
    "        ['Logistic_Regression', 76.69, 76.92, 76.61],\n",
    "        ['Decision_Tree', 76.94, 75.86, 75.69],\n",
    "        ['Random_Forest', 77.43, 76.60, 76.59],\n",
    "        ['Gradient_Boosting', 78.20, 77.55, 77.32],\n",
    "        ['XGBoost', 76.60, 76.80, 76.23]\n",
    "]))\n",
    "scores.columns = ['model_', 'train_accuracy', 'test_accuracy', 'cross_validation_accuracy']\n",
    "scores"
   ]
  },
  {
   "attachments": {},
   "cell_type": "markdown",
   "metadata": {},
   "source": [
    "The **Gradient Boosting model** shows the *highest train accuracy* of `78.2%`, indicating a better fit to the training data compared to other models. It also achieves the *highest test accuracy* of `77.55%`. It gives a better generalization performance on unseen data.\n",
    "\n",
    "However, the Random Forest model closely follows with a train accuracy of `77.43%` and a test accuracy of `76.6%`. The Logistic Regression, Decision Tree, and XGBoost models demonstrate relatively similar performance, with the XGBoost model having slightly lower train accuracy but comparable test accuracy.\n",
    "\n",
    "Overall, the **Gradient Boosting model** appears to be the top performer among the models, exhibiting strong predictive capabilities."
   ]
  },
  {
   "attachments": {},
   "cell_type": "markdown",
   "metadata": {},
   "source": [
    "## Conclusion"
   ]
  },
  {
   "attachments": {},
   "cell_type": "markdown",
   "metadata": {},
   "source": [
    "In conclusion, the project aimed to build and evaluate various machine learning models for classification. The analysis of the data indicated that the Gradient Boosting model performed the best, achieving the highest train and test accuracies.\n",
    "However, it is important to acknowledge the challenges that was faced during the project\n",
    "\n",
    "Firstly, data quality issues were addressed, including handling missing data,and inconsistent data formats. Additionally, a specific challenge arose due to the imbalanced representation of race, where there were more white people represented in the dataset, as well as a higher proportion of college students and homeowners. Secondly, model selection and tuning presented another challenge. It involved choosing the most suitable model and optimizing its hyperparameters for better performance, which was time consuming. Lastly overfitting and generalization were also challenges that needed attention. Steps were taken to prevent overfitting, which occurs when a model performs well on the training data but fails to generalize to new data. Techniques such as cross-validation and regularization were employed to address this issue and improve the model's ability to generalize to unseen data."
   ]
  },
  {
   "attachments": {},
   "cell_type": "markdown",
   "metadata": {},
   "source": [
    "### Recommendations"
   ]
  },
  {
   "attachments": {},
   "cell_type": "markdown",
   "metadata": {},
   "source": [
    "Based on the analysis and findings from the seasonal flu vaccine uptake prediction project, I would like to offer the following recommendations to Apex Health Insurance:\n",
    "\n",
    "\n",
    "1. **Coverage and Affordability**: Ensure that seasonal flu vaccines are covered under insurance plans without additional costs to policyholders. Offer comprehensive coverage for flu vaccinations, including the cost of the vaccine itself and any associated administration fees. This will remove financial barriers and encourage policyholders to get vaccinated.\n",
    "   \n",
    "2. **Personalized Outreach**: Leverage customer data and insights to personalize outreach efforts. Segment the target audience based on their opinions and perceptions, and design tailored communication strategies that resonate with each group. Use various channels such as social media, email, and direct mail to reach individuals and engage them in a meaningful way.\n",
    "   \n",
    "3. **Network and Access**: Collaborate with a wide network of healthcare providers, including doctors' offices, clinics, and pharmacies, to ensure convenient access to flu vaccines. Provide policyholders with a list of in-network providers offering flu vaccinations and promote the availability of vaccines in easily accessible locations. Consider partnering with retail pharmacies or offering mobile vaccination clinics to increase accessibility.\n",
    "   \n",
    "4. **Incentives and Rewards**: Implement incentive programs that encourage policyholders to get vaccinated. Offer rewards such as reduced insurance premiums, cash-back incentives, or wellness program points for individuals who receive the flu vaccine. This can motivate policyholders to prioritize vaccination and foster a proactive approach to preventive healthcare.\n",
    "   \n",
    "5. **Wellness Programs**: Incorporate flu vaccination into existing wellness programs offered by Apex Health Insurance. Provide resources and support for policyholders to track their vaccination status and encourage participation in other preventive health initiatives. Offer incentives or additional benefits for policyholders who consistently engage in preventive measures, including getting vaccinated against the flu."
   ]
  }
 ],
 "metadata": {
  "kernelspec": {
   "display_name": "Python 3",
   "language": "python",
   "name": "python3"
  },
  "language_info": {
   "codemirror_mode": {
    "name": "ipython",
    "version": 3
   },
   "file_extension": ".py",
   "mimetype": "text/x-python",
   "name": "python",
   "nbconvert_exporter": "python",
   "pygments_lexer": "ipython3",
   "version": "3.10.4"
  },
  "orig_nbformat": 4,
  "vscode": {
   "interpreter": {
    "hash": "26de051ba29f2982a8de78e945f0abaf191376122a1563185a90213a26c5da77"
   }
  }
 },
 "nbformat": 4,
 "nbformat_minor": 2
}
